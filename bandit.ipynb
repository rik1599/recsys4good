{
 "cells": [
  {
   "cell_type": "code",
   "execution_count": null,
   "metadata": {},
   "outputs": [],
   "source": [
    "import pandas as pd\n",
    "\n",
    "df = pd.read_csv('./data/October_November_missions_full.csv')\n",
    "df = df[~df['missionCatalog_id'].isin(['f1455712-fa2b-4feb-b7f9-ab8ddfa29e8d', 'd090d147-1ac9-4963-9c2b-1f5e663bad44'])]\n",
    "\n",
    "df.rename(columns={'sub': 'user', 'missionCatalog_id': 'missionID'}, inplace=True)\n",
    "df['mission'] = df['kind'] + '_' + df['TARGET'].astype(str)\n",
    "\n",
    "df = df[['user', 'missionID', 'createdAt', 'kind', 'TARGET', 'performance']]\n",
    "df = df.groupby('user').filter(lambda x: x['createdAt'].nunique() > 7)\n",
    "df['createdAt'] = pd.to_datetime(df['createdAt']).dt.date\n",
    "\n",
    "df['user'] = df['user'].astype('category').cat.codes\n",
    "df['missionID'] = df['missionID'].astype('category').cat.codes\n",
    "df['kind'] = df['kind'].astype('category')\n",
    "\n",
    "def reward(x):\n",
    "    if x <= 1:\n",
    "        return x\n",
    "    return max(0, 2 - x**2)\n",
    "\n",
    "df['reward'] = df['performance'].apply(reward)\n",
    "\n",
    "df.sort_values(by=['createdAt', 'user'], inplace=True, ignore_index=True)\n",
    "df"
   ]
  },
  {
   "cell_type": "code",
   "execution_count": null,
   "metadata": {},
   "outputs": [],
   "source": [
    "n_users = df['user'].max() + 1\n",
    "n_missions = df['missionID'].max() + 1\n",
    "\n",
    "print(n_users, n_missions)"
   ]
  },
  {
   "cell_type": "markdown",
   "metadata": {},
   "source": [
    "# MABTree"
   ]
  },
  {
   "cell_type": "code",
   "execution_count": null,
   "metadata": {},
   "outputs": [],
   "source": [
    "from src.tree import TreeNode\n",
    "\n",
    "missions = df[['missionID', 'kind', 'TARGET']].drop_duplicates()\n",
    "\n",
    "root = TreeNode('root')\n",
    "for name, round in missions.groupby('kind', observed=True):\n",
    "    node = TreeNode(name)\n",
    "    root.add_child(node)\n",
    "    for _, mission in round.iterrows():\n",
    "        node.add_child(TreeNode(mission.to_dict()))\n",
    "\n",
    "print(root)"
   ]
  },
  {
   "cell_type": "code",
   "execution_count": 4,
   "metadata": {},
   "outputs": [],
   "source": [
    "from src import policy as pol\n",
    "from src.tree import TreeBandit\n",
    "from tqdm.auto import tqdm\n",
    "\n",
    "def replay_mabtree(df: pd.DataFrame, policy: pol.Policy, **kwargs):\n",
    "    root = kwargs.get('root', None)\n",
    "\n",
    "    history = pd.DataFrame()\n",
    "    all_recs = []\n",
    "    tree_bandit = TreeBandit(root, policy)\n",
    "\n",
    "    policy.init(reset_model=True) # resets the policy\n",
    "    for t, round in tqdm(df.groupby('createdAt'), leave=False):\n",
    "        day_recs = []\n",
    "        for u in tqdm(round['user'].unique(), leave=False):\n",
    "            recs = [{'user': u, 'missionID': m.value['missionID']} for m in tree_bandit.select(n = (3, 1), user=u)]\n",
    "            day_recs += recs\n",
    "\n",
    "        all_recs += day_recs\n",
    "        actions = round.merge(pd.DataFrame(day_recs), on=['user', 'missionID'], how='inner')\n",
    "        history = pd.concat((history, actions), ignore_index=True)\n",
    "        policy.update(train_df=history, day=t)\n",
    "            \n",
    "    return history, all_recs\n",
    "\n",
    "\n",
    "def recommend(rank: list, missions: pd.DataFrame, n=1) -> list:\n",
    "    ranked_missions = missions.loc[rank] # ranks missions\n",
    "    top_missions = ranked_missions.groupby('kind', observed=True, sort=False).head(1) # selects the top mission of each kind\n",
    "    return top_missions.index.tolist()[:n] # returns the top n missions\n",
    "\n",
    "\n",
    "def replay(df: pd.DataFrame, policy, **kwargs):\n",
    "    missions = kwargs.get('missions', None)\n",
    "\n",
    "    history = pd.DataFrame()\n",
    "    all_recs = []\n",
    "    for t, round in tqdm(df.groupby('createdAt'), leave=False):\n",
    "        day_recs = []\n",
    "        for u in tqdm(round['user'].unique(), leave=False):\n",
    "            rank = policy.select(u)\n",
    "            recs = [{'user': u, 'missionID': rec} for rec in recommend(rank, missions, n=3)]\n",
    "            day_recs += recs\n",
    "\n",
    "        all_recs += day_recs\n",
    "        actions = round.merge(pd.DataFrame(day_recs), on=['user', 'missionID'], how='inner')\n",
    "        history = pd.concat((history, actions), ignore_index=True)\n",
    "        policy.update(train_df=history, day=t)\n",
    "            \n",
    "    return history, pd.DataFrame(all_recs)"
   ]
  },
  {
   "cell_type": "code",
   "execution_count": 5,
   "metadata": {},
   "outputs": [],
   "source": [
    "from collections import Counter\n",
    "import numpy as np\n",
    "\n",
    "def calculate_entropy(data):\n",
    "    counter = Counter(data)\n",
    "    n = len(data)\n",
    "    return - sum([count/n * np.log2(count/n) for count in counter.values()])\n",
    "\n",
    "\n",
    "def evaluate(policy, replay, **kwargs) -> tuple[pd.DataFrame, float]:\n",
    "    rewards, recs = replay(df[['user', 'missionID', 'createdAt', 'reward']], policy, **kwargs)\n",
    "\n",
    "    entropy = recs.groupby('user')['missionID'].agg(calculate_entropy).mean()\n",
    "    rewards = rewards.groupby('createdAt')['reward'].sum().cumsum()\n",
    "\n",
    "    return rewards, entropy\n",
    "\n",
    "\n",
    "def repeated_evaluation(policies: dict, replay_fn, n=10, **kwargs):\n",
    "    cumul_rewards = []\n",
    "    entropies = []\n",
    "\n",
    "    for _ in tqdm(range(n)):\n",
    "        round_rewards = dict()\n",
    "        round_entropies = dict()\n",
    "        for name, policy in tqdm(policies.items(), leave=False):\n",
    "            reward, entropy = evaluate(policy, replay_fn, **kwargs)\n",
    "            round_rewards[name] = reward\n",
    "            round_entropies[name] = entropy\n",
    "    \n",
    "        cumul_rewards.append(pd.concat(round_rewards))\n",
    "        entropies.append(round_entropies)\n",
    "\n",
    "    cumul_rewards = pd.concat(cumul_rewards, axis=1)\n",
    "    entropies = pd.DataFrame(entropies)\n",
    "\n",
    "    return cumul_rewards, entropies"
   ]
  },
  {
   "cell_type": "code",
   "execution_count": null,
   "metadata": {},
   "outputs": [],
   "source": [
    "import torch\n",
    "import numpy\n",
    "from src import models as mod\n",
    "from src import baseline as base\n",
    "\n",
    "torch.manual_seed(0)\n",
    "numpy.random.seed(0)\n",
    "\n",
    "policies = {\n",
    "#    'MABTree \\u03B5-greedy MF': pol.MABTreeEpsilonGreedyML(model_class=mod.MF, num_users=n_users, num_missions=n_missions, embedding_dim=8),\n",
    "    'MABTree \\u03B5-greedy': pol.MABTreeEpsilonGreedy(),\n",
    "    'MABTree UCB1': pol.MABTreeUCB(),\n",
    "    'MABTree Random': pol.MABTReeRandom(),\n",
    "}\n",
    "\n",
    "cumul_rewards, entropies = repeated_evaluation(policies, replay_mabtree, root=root)\n",
    "cumul_rewards.to_csv('./data/mabtree_rewards.csv', index=True)\n",
    "entropies.to_csv('./data/mabtree_entropies.csv', index=True)"
   ]
  },
  {
   "cell_type": "markdown",
   "metadata": {},
   "source": [
    "# Baseline"
   ]
  },
  {
   "cell_type": "code",
   "execution_count": null,
   "metadata": {},
   "outputs": [],
   "source": [
    "missions = df[['missionID', 'kind', 'TARGET']].drop_duplicates().set_index('missionID')\n",
    "missions"
   ]
  },
  {
   "cell_type": "code",
   "execution_count": null,
   "metadata": {},
   "outputs": [],
   "source": [
    "import torch\n",
    "import numpy\n",
    "from src import baseline as base\n",
    "\n",
    "torch.manual_seed(0)\n",
    "numpy.random.seed(0)\n",
    "\n",
    "policies = {\n",
    "    'LinUCB': base.LinUCB(num_arms=n_missions, context_manager=base.ContextManager(n_users=n_users, n_features=n_missions)),\n",
    "    'UCB1': base.UCB1(num_arms=n_missions),\n",
    "    '\\u03B5-greedy': base.EpsilonGreedy(num_arms=n_missions),\n",
    "}\n",
    "\n",
    "cumul_rewards, entropies = repeated_evaluation(policies, replay, missions=missions)\n",
    "cumul_rewards.to_csv('./data/baseline_rewards.csv', index=True)\n",
    "entropies.to_csv('./data/baseline_entropies.csv', index=True)"
   ]
  }
 ],
 "metadata": {
  "kernelspec": {
   "display_name": "Python 3",
   "language": "python",
   "name": "python3"
  },
  "language_info": {
   "codemirror_mode": {
    "name": "ipython",
    "version": 3
   },
   "file_extension": ".py",
   "mimetype": "text/x-python",
   "name": "python",
   "nbconvert_exporter": "python",
   "pygments_lexer": "ipython3",
   "version": "3.12.7"
  }
 },
 "nbformat": 4,
 "nbformat_minor": 2
}
