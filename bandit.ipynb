{
 "cells": [
  {
   "cell_type": "code",
   "execution_count": null,
   "metadata": {},
   "outputs": [],
   "source": [
    "import pandas as pd\n",
    "import numpy as np\n",
    "\n",
    "df = pd.read_csv('./data/bq-results-20241223-153559-1734968168534.csv')\n",
    "df = df[~df['missionCatalog_id'].isin(['f1455712-fa2b-4feb-b7f9-ab8ddfa29e8d', 'd090d147-1ac9-4963-9c2b-1f5e663bad44'])]\n",
    "\n",
    "df.rename(columns={'sub': 'user', 'missionCatalog_id': 'missionID'}, inplace=True)\n",
    "df['mission'] = df['kind'] + '_' + df['TARGET'].astype(str)\n",
    "\n",
    "df = df[['user', 'missionID', 'createdAt', 'kind', 'TARGET', 'performance']]\n",
    "df = df.groupby('user').filter(lambda x: x['createdAt'].nunique() > 7)\n",
    "df['createdAt'] = pd.to_datetime(df['createdAt']).dt.date\n",
    "\n",
    "df['user'] = df['user'].astype('category').cat.codes\n",
    "df['missionID'] = df['missionID'].astype('category').cat.codes\n",
    "df['kind'] = df['kind'].astype('category')\n",
    "\n",
    "def reward(x):\n",
    "    if x <= 1:\n",
    "        return x\n",
    "    return max(0, 2 - np.pow(x, 2))\n",
    "\n",
    "df['reward'] = df['performance'].apply(reward)\n",
    "\n",
    "df.sort_values(by=['createdAt', 'user'], inplace=True, ignore_index=True)\n",
    "df"
   ]
  },
  {
   "cell_type": "code",
   "execution_count": null,
   "metadata": {},
   "outputs": [],
   "source": [
    "n_users = df['user'].max() + 1\n",
    "n_missions = df['missionID'].max() + 1\n",
    "\n",
    "print(n_users, n_missions)"
   ]
  },
  {
   "cell_type": "code",
   "execution_count": null,
   "metadata": {},
   "outputs": [],
   "source": [
    "from src.tree import TreeNode\n",
    "\n",
    "missions = df[['missionID', 'kind', 'TARGET']].drop_duplicates()\n",
    "\n",
    "root = TreeNode('root')\n",
    "for name, round in missions.groupby('kind', observed=True):\n",
    "    node = TreeNode(name)\n",
    "    root.add_child(node)\n",
    "    for _, mission in round.iterrows():\n",
    "        node.add_child(TreeNode(mission.to_dict()))\n",
    "\n",
    "print(root)\n",
    "\n",
    "missions = missions.set_index('missionID')\n",
    "print(missions)"
   ]
  },
  {
   "cell_type": "code",
   "execution_count": 4,
   "metadata": {},
   "outputs": [],
   "source": [
    "from src import policy as pol\n",
    "from src.tree import TreeBandit\n",
    "from tqdm.auto import tqdm\n",
    " \n",
    "class MABRecommender:\n",
    "    def __init__(self, policy: pol.Policy):\n",
    "        self.policy = policy\n",
    "\n",
    "    def recommend(self):\n",
    "        pass\n",
    "\n",
    "class MABTreeRecommender(MABRecommender):\n",
    "    def __init__(self, policy: pol.Policy, root: TreeNode):\n",
    "        super().__init__(policy)\n",
    "        self.root = root\n",
    "        self.tree_bandit = TreeBandit(self.root, self.policy)\n",
    "    \n",
    "    def recommend(self, user, n=(3, 1)):\n",
    "        recs = self.tree_bandit.select(n=n, user=user)\n",
    "        return [m.value['missionID'] for m in recs]\n",
    "\n",
    "class MABPolicyRecommender(MABRecommender):\n",
    "    def __init__(self, policy: pol.Policy, missions: pd.DataFrame):\n",
    "        super().__init__(policy)\n",
    "        self.missions = missions\n",
    "    \n",
    "    def recommend(self, user, n=3):\n",
    "        rank = self.policy.select(user)\n",
    "        ranked_missions = self.missions.loc[rank] # ranks missions\n",
    "        top_missions = ranked_missions.groupby('kind', observed=True, sort=False).head(1) # selects the top mission of each kind\n",
    "        return top_missions.index.tolist()[:n] # returns the top n missions\n",
    "\n",
    "\n",
    "def replay(df: pd.DataFrame, recommeder: MABRecommender):\n",
    "    history = pd.DataFrame()\n",
    "    policy_recommendations = []\n",
    "\n",
    "    recommeder.policy.init()\n",
    "    for t, round in tqdm(df.groupby('createdAt'), leave=False):\n",
    "        day_recs = []\n",
    "        for u in tqdm(round['user'].unique(), leave=False):\n",
    "            user_recs = [{'date': t, 'user': u, 'missionID': m} for m in recommeder.recommend(u)]\n",
    "            day_recs += user_recs\n",
    "        \n",
    "        policy_recommendations += day_recs\n",
    "        actions = round.merge(pd.DataFrame(day_recs), on=['user', 'missionID'], how='inner')\n",
    "        history = pd.concat((history, actions), ignore_index=True)\n",
    "        recommeder.policy.update(train_df=history, day=t)\n",
    "    \n",
    "    return history, pd.DataFrame(policy_recommendations)"
   ]
  },
  {
   "cell_type": "code",
   "execution_count": 5,
   "metadata": {},
   "outputs": [],
   "source": [
    "def per_day_entropy(df: pd.DataFrame):\n",
    "    def entropy(x):\n",
    "        _, counts = np.unique(x, return_counts=True)\n",
    "        return - np.sum(counts / len(x) * np.log2(counts / len(x)))\n",
    "\n",
    "    return df.groupby('date')['missionID'].apply(entropy).mean()\n",
    "\n",
    "def avg_coverage(df: pd.DataFrame):\n",
    "    return df.groupby('user')['missionID'].nunique().apply(lambda x: x / n_missions).mean()\n",
    "\n",
    "def cumulative_reward(df: pd.DataFrame):\n",
    "    return df.groupby('createdAt')['reward'].sum().cumsum()\n",
    "\n",
    "def evaluate(recommender: MABRecommender):\n",
    "    history, policy_recommendations = replay(df[['user', 'missionID', 'createdAt', 'reward']], recommender)\n",
    "\n",
    "    return cumulative_reward(history), avg_coverage(policy_recommendations), per_day_entropy(policy_recommendations)"
   ]
  },
  {
   "cell_type": "code",
   "execution_count": 6,
   "metadata": {},
   "outputs": [],
   "source": [
    "import torch\n",
    "import numpy\n",
    "from src import models as mod\n",
    "from src import baseline as base\n",
    "\n",
    "torch.manual_seed(0)\n",
    "numpy.random.seed(0)\n",
    "\n",
    "policies = {\n",
    "    'MABTree Random': MABTreeRecommender(pol.MABTReeRandom(), root),\n",
    "    'MABTree UCB': MABTreeRecommender(pol.MABTreeUCB(), root),\n",
    "    'MABTree 0.1-greedy': MABTreeRecommender(pol.MABTreeEpsilonGreedy(0.1), root),\n",
    "    'MABTree 0.1-greedy MF': MABTreeRecommender(pol.MABTreeEpsilonGreedyML(model_class=mod.MF, num_users=n_users, num_missions=n_missions, embedding_dim=8), root),\n",
    "    '0.1-greedy': MABPolicyRecommender(base.EpsilonGreedy(num_arms=n_missions, epsilon=0.1), missions),\n",
    "    'UCB': MABPolicyRecommender(base.UCB1(num_arms=n_missions), missions),\n",
    "    'LinUCB': MABPolicyRecommender(base.LinUCB(num_arms=n_missions, context_manager=base.ContextManager(n_users, n_missions)), missions),\n",
    "}"
   ]
  },
  {
   "cell_type": "code",
   "execution_count": null,
   "metadata": {},
   "outputs": [],
   "source": [
    "metrics = [\n",
    "    {name: evaluate(recommender) for name, recommender in tqdm(policies.items(), leave=False)}\n",
    "    for _ in tqdm(range(10))\n",
    "]"
   ]
  },
  {
   "cell_type": "code",
   "execution_count": null,
   "metadata": {},
   "outputs": [],
   "source": [
    "# Cumulated reward dataframe\n",
    "\n",
    "pd.concat([\n",
    "    pd.concat({\n",
    "        name: reward for name, (reward, _, _) in metric.items()\n",
    "    }) for metric in metrics\n",
    "], axis=1).to_csv('./out/cumulated_reward.csv', index=True)"
   ]
  },
  {
   "cell_type": "code",
   "execution_count": 9,
   "metadata": {},
   "outputs": [],
   "source": [
    "# Coverage dataframe\n",
    "\n",
    "pd.DataFrame([\n",
    "    {name: coverage for name, (_, coverage, _) in metric.items()}\n",
    "    for metric in metrics\n",
    "]).to_csv('./out/coverage.csv', index=True)"
   ]
  },
  {
   "cell_type": "code",
   "execution_count": null,
   "metadata": {},
   "outputs": [],
   "source": [
    "# Inter-list diversity dataframe\n",
    "\n",
    "pd.DataFrame([\n",
    "    {name: diversity for name, (_, _, diversity) in metric.items()}\n",
    "    for metric in metrics\n",
    "]).to_csv('./out/diversity.csv', index=True)"
   ]
  }
 ],
 "metadata": {
  "kernelspec": {
   "display_name": "Python 3",
   "language": "python",
   "name": "python3"
  },
  "language_info": {
   "codemirror_mode": {
    "name": "ipython",
    "version": 3
   },
   "file_extension": ".py",
   "mimetype": "text/x-python",
   "name": "python",
   "nbconvert_exporter": "python",
   "pygments_lexer": "ipython3",
   "version": "3.12.7"
  }
 },
 "nbformat": 4,
 "nbformat_minor": 2
}
