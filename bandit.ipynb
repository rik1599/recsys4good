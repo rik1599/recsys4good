{
 "cells": [
  {
   "cell_type": "code",
   "execution_count": null,
   "metadata": {},
   "outputs": [],
   "source": [
    "import pandas as pd\n",
    "\n",
    "df = pd.concat((\n",
    "    pd.read_csv('./data/October_missions_full.csv'),\n",
    "    pd.read_csv('./data/November_1stW_missions_full.csv')\n",
    "), ignore_index=True)\n",
    "\n",
    "df['mission'] = df['type'] + '_' + df['target'].astype(str)\n",
    "\n",
    "df = df[['user', 'mission', 'createdAtT', 'type', 'target', 'performance']]\n",
    "df['createdAtT'] = pd.to_datetime(df['createdAtT'], unit='ms').dt.date\n",
    "df = df.groupby('user').filter(lambda x: len(x['createdAtT'].unique()) > 1)\n",
    "\n",
    "df['user'] = df['user'].astype('category').cat.codes\n",
    "df['mission'] = df['mission'].astype('category')\n",
    "df['missionID'] = df['mission'].cat.codes\n",
    "df['type'] = df['type'].astype('category')\n",
    "df['performance'] = df['performance'].apply(lambda x: 0.7 <= x <= 1.05).astype(int)\n",
    "df.rename(columns={'createdAtT': 'date', 'performance': 'reward'}, inplace=True)\n",
    "\n",
    "df.sort_values(by=['date', 'user'], inplace=True, ignore_index=True)\n",
    "df"
   ]
  },
  {
   "cell_type": "code",
   "execution_count": null,
   "metadata": {},
   "outputs": [],
   "source": [
    "n_users = df['user'].nunique()\n",
    "n_missions = df['mission'].nunique()\n",
    "\n",
    "n_users, n_missions"
   ]
  },
  {
   "cell_type": "code",
   "execution_count": null,
   "metadata": {},
   "outputs": [],
   "source": [
    "from src.tree import TreeNode\n",
    "\n",
    "missions = df[['missionID', 'type', 'target']].drop_duplicates()\n",
    "root = TreeNode('root')\n",
    "for name, round in missions.groupby('type', observed=True):\n",
    "    node = TreeNode(name)\n",
    "    root.add_child(node)\n",
    "    for _, mission in round.iterrows():\n",
    "        node.add_child(TreeNode(mission.to_dict()))\n",
    "\n",
    "print(root)"
   ]
  },
  {
   "cell_type": "code",
   "execution_count": null,
   "metadata": {},
   "outputs": [],
   "source": [
    "from src import policy as pol\n",
    "from src import models as mod\n",
    "from src.tree import TreeBandit\n",
    "from tqdm.auto import tqdm\n",
    "\n",
    "def replay_score(history: pd.DataFrame, df: pd.DataFrame, recs: pd.DataFrame):\n",
    "    actions = df.merge(recs, on=['user', 'missionID'], how='inner')\n",
    "    history = pd.concat((history, actions), ignore_index=True)\n",
    "    return history, len(actions) / len(df)\n",
    "\n",
    "\n",
    "def replay(df: pd.DataFrame, policy: pol.Policy, root: TreeNode):\n",
    "    history = pd.DataFrame()\n",
    "    tree_bandit = TreeBandit(root, policy)\n",
    "    for _, round in tqdm(df.groupby('date')):\n",
    "        day_recs = pd.DataFrame()\n",
    "        for u in tqdm(round['user'].unique(), leave=False):\n",
    "            policy.init()\n",
    "            recs = [{'user': u, 'missionID': m.value['missionID']} for m in tree_bandit.select(n = (3, 1), user=u)]\n",
    "            recs = pd.DataFrame(recs)\n",
    "            day_recs = pd.concat((day_recs, recs), ignore_index=True)\n",
    "        \n",
    "        history, _ = replay_score(history, round, day_recs)\n",
    "        policy.update(train_df=history)\n",
    "            \n",
    "    return history"
   ]
  },
  {
   "cell_type": "code",
   "execution_count": null,
   "metadata": {},
   "outputs": [],
   "source": [
    "def evaluate(policy) -> pd.DataFrame:\n",
    "    rewards = replay(df[['user', 'missionID', 'date', 'reward']], policy, root)\n",
    "    rewards = rewards.groupby('date')['reward'].sum().cumsum()\n",
    "\n",
    "    return rewards"
   ]
  },
  {
   "cell_type": "code",
   "execution_count": null,
   "metadata": {},
   "outputs": [],
   "source": [
    "import torch\n",
    "import numpy\n",
    "\n",
    "torch.manual_seed(0)\n",
    "numpy.random.seed(0)\n",
    "\n",
    "policies = {\n",
    "    'Random':           pol.RandomBandit(),\n",
    "    'Epsilon-Greedy':   pol.MeanEpsilonGreedy(epsilon=0.1),\n",
    "    #'MF':               pol.ModelEpsilonGreedy(model=mod.MissionMatrixFactorization(n_users, n_missions, embedding_dim=8), epsilon=0),\n",
    "    #'Softmax-MF':       pol.SoftmaxBandit(model=mod.MissionMatrixFactorization(n_users, n_missions, embedding_dim=8)),\n",
    "    #'Softmax-Linear':   pol.SoftmaxBandit(model=mod.MissionLinearRegression(n_users, n_missions)),\n",
    "}\n",
    "\n",
    "results = pd.concat([\n",
    "    pd.concat({name: evaluate(policy) for name, policy in tqdm(policies.items())})\n",
    "    for _ in tqdm(range(5))\n",
    "], axis=1)"
   ]
  },
  {
   "cell_type": "code",
   "execution_count": null,
   "metadata": {},
   "outputs": [],
   "source": [
    "from matplotlib import pyplot as plt\n",
    "\n",
    "plt.figure(figsize=(12, 6))\n",
    "for name, result in results.items():\n",
    "    plt.plot(result['reward', 'sum'], label=name)\n",
    "\n",
    "plt.title('Cumulative Reward')\n",
    "plt.xticks(rotation=45)\n",
    "plt.xlabel('Date')\n",
    "plt.ylabel('Reward')\n",
    "plt.legend()\n",
    "plt.show()"
   ]
  }
 ],
 "metadata": {
  "kernelspec": {
   "display_name": "Python 3",
   "language": "python",
   "name": "python3"
  },
  "language_info": {
   "codemirror_mode": {
    "name": "ipython",
    "version": 3
   },
   "file_extension": ".py",
   "mimetype": "text/x-python",
   "name": "python",
   "nbconvert_exporter": "python",
   "pygments_lexer": "ipython3",
   "version": "3.12.7"
  }
 },
 "nbformat": 4,
 "nbformat_minor": 2
}
