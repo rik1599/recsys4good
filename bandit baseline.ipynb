{
 "cells": [
  {
   "cell_type": "code",
   "execution_count": null,
   "metadata": {},
   "outputs": [],
   "source": [
    "import pandas as pd\n",
    "\n",
    "df = pd.read_csv('./data/October_November_missions_full.csv')\n",
    "df = df[~df['missionCatalog_id'].isin(['f1455712-fa2b-4feb-b7f9-ab8ddfa29e8d', 'd090d147-1ac9-4963-9c2b-1f5e663bad44'])]\n",
    "\n",
    "df.rename(columns={'sub': 'user'}, inplace=True)\n",
    "df['mission'] = df['kind'] + '_' + df['TARGET'].astype(str)\n",
    "\n",
    "df = df[['user', 'mission', 'createdAt', 'kind', 'TARGET', 'performance']]\n",
    "df = df.groupby('user').filter(lambda x: x['createdAt'].nunique() > 7)\n",
    "df['createdAt'] = pd.to_datetime(df['createdAt']).dt.date\n",
    "\n",
    "df['user'] = df['user'].astype('category').cat.codes\n",
    "df['mission'] = df['mission'].astype('category')\n",
    "df['missionID'] = df['mission'].cat.codes\n",
    "df['kind'] = df['kind'].astype('category')\n",
    "\n",
    "def reward(x):\n",
    "    if x <= 1:\n",
    "        return x\n",
    "    return max(0, 2 - x**2)\n",
    "\n",
    "df['reward'] = df['performance'].apply(reward)\n",
    "\n",
    "df.sort_values(by=['createdAt', 'user'], inplace=True, ignore_index=True)\n",
    "df"
   ]
  },
  {
   "cell_type": "code",
   "execution_count": null,
   "metadata": {},
   "outputs": [],
   "source": [
    "n_users = df['user'].max() + 1\n",
    "n_missions = df['missionID'].max() + 1\n",
    "\n",
    "print(n_users, n_missions)\n",
    "\n",
    "missions = df[['missionID', 'kind', 'TARGET']].drop_duplicates().set_index('missionID')\n",
    "missions"
   ]
  },
  {
   "cell_type": "code",
   "execution_count": 3,
   "metadata": {},
   "outputs": [],
   "source": [
    "from src import contextual as ctx\n",
    "from tqdm.auto import tqdm\n",
    "\n",
    "def recommend(rank: list, missions: pd.DataFrame, n=1) -> list:\n",
    "    ranked_missions = missions.loc[rank] # ranks missions\n",
    "    top_missions = ranked_missions.groupby('kind', observed=True, sort=False).head(1) # selects the top mission of each kind\n",
    "    return top_missions.index.tolist()[:n] # returns the top n missions\n",
    "\n",
    "def replay(df: pd.DataFrame, policy: ctx.LinUCB):\n",
    "    history = pd.DataFrame()\n",
    "    for t, round in tqdm(df.groupby('createdAt'), leave=False):\n",
    "        day_recs = []\n",
    "        for u in tqdm(round['user'].unique(), leave=False):\n",
    "            rank = policy.select(u)\n",
    "            recs = [{'user': u, 'missionID': rec} for rec in recommend(rank, missions, n=3)]\n",
    "            day_recs += recs\n",
    "\n",
    "        actions = round.merge(pd.DataFrame(day_recs), on=['user', 'missionID'], how='inner')\n",
    "        history = pd.concat((history, actions), ignore_index=True)\n",
    "        policy.update(train_df=history, day=t)\n",
    "            \n",
    "    return history\n",
    "\n",
    "\n",
    "def evaluate(policy) -> pd.DataFrame:\n",
    "    rewards = replay(df[['user', 'missionID', 'createdAt', 'reward']], policy)\n",
    "    rewards = rewards.groupby('createdAt')['reward'].sum().cumsum()\n",
    "\n",
    "    return rewards"
   ]
  },
  {
   "cell_type": "code",
   "execution_count": null,
   "metadata": {},
   "outputs": [],
   "source": [
    "import torch\n",
    "import numpy\n",
    "\n",
    "torch.manual_seed(0)\n",
    "numpy.random.seed(0)\n",
    "\n",
    "policies = {\n",
    "    'LinUCB': ctx.LinUCB(n_missions, context_manager=ctx.ContextManager(n_users, n_missions)),\n",
    "}\n",
    "\n",
    "results = pd.concat([\n",
    "    pd.concat({name: evaluate(policy) for name, policy in tqdm(policies.items(), leave=False)})\n",
    "    for _ in tqdm(range(5))\n",
    "], axis=1)\n",
    "\n",
    "results\n",
    "results.to_csv('./out/replay_results_baseline.csv', index=True)"
   ]
  }
 ],
 "metadata": {
  "kernelspec": {
   "display_name": "Python 3",
   "language": "python",
   "name": "python3"
  },
  "language_info": {
   "codemirror_mode": {
    "name": "ipython",
    "version": 3
   },
   "file_extension": ".py",
   "mimetype": "text/x-python",
   "name": "python",
   "nbconvert_exporter": "python",
   "pygments_lexer": "ipython3",
   "version": "3.12.7"
  }
 },
 "nbformat": 4,
 "nbformat_minor": 2
}
