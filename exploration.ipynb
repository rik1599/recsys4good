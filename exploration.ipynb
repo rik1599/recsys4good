{
 "cells": [
  {
   "cell_type": "code",
   "execution_count": null,
   "metadata": {},
   "outputs": [],
   "source": [
    "import pandas as pd\n",
    "import numpy as np\n",
    "import matplotlib.pyplot as plt\n",
    "from tqdm.auto import tqdm\n",
    "tqdm.pandas()\n",
    "\n",
    "df = pd.concat((\n",
    "    pd.read_csv('./data/October_missions_full.csv'),\n",
    "    pd.read_csv('./data/November_1stW_missions_full.csv'),\n",
    "), ignore_index=True)\n",
    "\n",
    "df['mission'] = df['type'] + '_' + df['target'].astype(str)\n",
    "\n",
    "df = df[['user', 'mission', 'createdAtT', 'type', 'target', 'completed', 'performance']]\n",
    "df['createdAtT'] = pd.to_datetime(df['createdAtT'], unit='ms').dt.date\n",
    "df['user'] = df['user'].astype('category').cat.codes\n",
    "df['mission'] = df['mission'].astype('category')\n",
    "df['type'] = df['type'].astype('category')\n",
    "\n",
    "df.sort_values(by=['createdAtT', 'user'], inplace=True, ignore_index=True)\n",
    "df"
   ]
  },
  {
   "cell_type": "code",
   "execution_count": null,
   "metadata": {},
   "outputs": [],
   "source": [
    "plt.figure(figsize=(10, 6))\n",
    "\n",
    "plt.subplot(1, 2, 1)\n",
    "df['completed'].value_counts(normalize=True).plot(kind='bar')\n",
    "\n",
    "plt.subplot(1, 2, 2)\n",
    "df['performance'].plot.hist(bins=20)\n",
    "\n",
    "plt.tight_layout()\n",
    "plt.show()"
   ]
  },
  {
   "cell_type": "code",
   "execution_count": null,
   "metadata": {},
   "outputs": [],
   "source": [
    "plt.figure(figsize=(10, 6))\n",
    "\n",
    "df.groupby('mission', observed=True).size().plot(kind='bar')"
   ]
  },
  {
   "cell_type": "code",
   "execution_count": null,
   "metadata": {},
   "outputs": [],
   "source": [
    "plt.figure(figsize=(10, 6))\n",
    "\n",
    "df.groupby('type', observed=True).size().plot(kind='bar')"
   ]
  },
  {
   "cell_type": "code",
   "execution_count": null,
   "metadata": {},
   "outputs": [],
   "source": [
    "def sequences(x: pd.Series, df: pd.DataFrame, day_window=3):\n",
    "    ts = x['createdAtT']\n",
    "    ts_start = ts - pd.Timedelta(days=day_window)\n",
    "\n",
    "    user_df: pd.DataFrame = df[(df['user'] == x['user']) & (df['createdAtT'] >= ts_start) & (df['createdAtT'] < ts)]\n",
    "    user_df = user_df.sort_values(by='createdAtT', ascending=True)\n",
    "    return pd.Series({\n",
    "        'id': str(x['user']) + '_' + str(ts),\n",
    "        'ts': ts,\n",
    "        'mission': x['mission'],\n",
    "        'ID': x['mission_id'],\n",
    "        'history': user_df[['mission_id', 'ok']].astype(int).values\n",
    "    })\n",
    "\n",
    "def get_negatives(x: pd.Series):\n",
    "    neg = missions - set(x)\n",
    "    return [list(neg)] * len(x)\n",
    "\n",
    "df['ok'] = df['performance'].apply(lambda x: 0.7 <= x <= 1.05)\n",
    "df['mission_id'] = df['mission'].cat.codes\n",
    "missions = set(df['mission_id'])\n",
    "\n",
    "sequences_df: pd.DataFrame = df[df['ok']].progress_apply(sequences, axis=1, args=(df,))\n",
    "sequences_df['negatives'] = sequences_df.groupby('id')['ID'].transform(get_negatives)\n",
    "\n",
    "sequences_df"
   ]
  },
  {
   "cell_type": "code",
   "execution_count": null,
   "metadata": {},
   "outputs": [],
   "source": [
    "sequences_df['ts'] = pd.to_datetime(sequences_df['ts'])\n",
    "sequences_df = sequences_df[sequences_df['history'].apply(len) > 0]\n",
    "train_df = sequences_df[sequences_df['ts'] < pd.Timestamp('2024-11-01')]\n",
    "test_df = sequences_df[sequences_df['ts'] >= pd.Timestamp('2024-11-01')]\n",
    "\n",
    "display(train_df)\n",
    "display(test_df)"
   ]
  },
  {
   "cell_type": "code",
   "execution_count": null,
   "metadata": {},
   "outputs": [],
   "source": [
    "train_df.to_pickle('./out/train.pkl')\n",
    "test_df.to_pickle('./out/test.pkl')"
   ]
  }
 ],
 "metadata": {
  "kernelspec": {
   "display_name": "Python 3",
   "language": "python",
   "name": "python3"
  },
  "language_info": {
   "codemirror_mode": {
    "name": "ipython",
    "version": 3
   },
   "file_extension": ".py",
   "mimetype": "text/x-python",
   "name": "python",
   "nbconvert_exporter": "python",
   "pygments_lexer": "ipython3",
   "version": "3.12.7"
  }
 },
 "nbformat": 4,
 "nbformat_minor": 2
}
