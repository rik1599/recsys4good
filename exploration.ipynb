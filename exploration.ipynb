{
 "cells": [
  {
   "cell_type": "code",
   "execution_count": 1,
   "metadata": {},
   "outputs": [
    {
     "data": {
      "text/html": [
       "<div>\n",
       "<style scoped>\n",
       "    .dataframe tbody tr th:only-of-type {\n",
       "        vertical-align: middle;\n",
       "    }\n",
       "\n",
       "    .dataframe tbody tr th {\n",
       "        vertical-align: top;\n",
       "    }\n",
       "\n",
       "    .dataframe thead th {\n",
       "        text-align: right;\n",
       "    }\n",
       "</style>\n",
       "<table border=\"1\" class=\"dataframe\">\n",
       "  <thead>\n",
       "    <tr style=\"text-align: right;\">\n",
       "      <th></th>\n",
       "      <th>user</th>\n",
       "      <th>missionID</th>\n",
       "      <th>createdAt</th>\n",
       "      <th>kind</th>\n",
       "      <th>TARGET</th>\n",
       "      <th>performance</th>\n",
       "      <th>reward</th>\n",
       "    </tr>\n",
       "  </thead>\n",
       "  <tbody>\n",
       "    <tr>\n",
       "      <th>0</th>\n",
       "      <td>4</td>\n",
       "      <td>26</td>\n",
       "      <td>2024-10-02</td>\n",
       "      <td>quiz</td>\n",
       "      <td>2</td>\n",
       "      <td>2.500000</td>\n",
       "      <td>0.0</td>\n",
       "    </tr>\n",
       "    <tr>\n",
       "      <th>1</th>\n",
       "      <td>4</td>\n",
       "      <td>28</td>\n",
       "      <td>2024-10-02</td>\n",
       "      <td>episode</td>\n",
       "      <td>3</td>\n",
       "      <td>2.333333</td>\n",
       "      <td>0.0</td>\n",
       "    </tr>\n",
       "    <tr>\n",
       "      <th>2</th>\n",
       "      <td>4</td>\n",
       "      <td>6</td>\n",
       "      <td>2024-10-02</td>\n",
       "      <td>activity</td>\n",
       "      <td>8</td>\n",
       "      <td>2.125000</td>\n",
       "      <td>0.0</td>\n",
       "    </tr>\n",
       "    <tr>\n",
       "      <th>3</th>\n",
       "      <td>4</td>\n",
       "      <td>14</td>\n",
       "      <td>2024-10-02</td>\n",
       "      <td>activity</td>\n",
       "      <td>10</td>\n",
       "      <td>1.700000</td>\n",
       "      <td>0.0</td>\n",
       "    </tr>\n",
       "    <tr>\n",
       "      <th>4</th>\n",
       "      <td>4</td>\n",
       "      <td>18</td>\n",
       "      <td>2024-10-02</td>\n",
       "      <td>exp</td>\n",
       "      <td>50</td>\n",
       "      <td>3.200000</td>\n",
       "      <td>0.0</td>\n",
       "    </tr>\n",
       "    <tr>\n",
       "      <th>...</th>\n",
       "      <td>...</td>\n",
       "      <td>...</td>\n",
       "      <td>...</td>\n",
       "      <td>...</td>\n",
       "      <td>...</td>\n",
       "      <td>...</td>\n",
       "      <td>...</td>\n",
       "    </tr>\n",
       "    <tr>\n",
       "      <th>186390</th>\n",
       "      <td>1883</td>\n",
       "      <td>12</td>\n",
       "      <td>2024-12-22</td>\n",
       "      <td>episode</td>\n",
       "      <td>5</td>\n",
       "      <td>1.600000</td>\n",
       "      <td>0.0</td>\n",
       "    </tr>\n",
       "    <tr>\n",
       "      <th>186391</th>\n",
       "      <td>1883</td>\n",
       "      <td>18</td>\n",
       "      <td>2024-12-22</td>\n",
       "      <td>exp</td>\n",
       "      <td>50</td>\n",
       "      <td>1.700000</td>\n",
       "      <td>0.0</td>\n",
       "    </tr>\n",
       "    <tr>\n",
       "      <th>186392</th>\n",
       "      <td>1884</td>\n",
       "      <td>0</td>\n",
       "      <td>2024-12-22</td>\n",
       "      <td>episode</td>\n",
       "      <td>2</td>\n",
       "      <td>2.500000</td>\n",
       "      <td>0.0</td>\n",
       "    </tr>\n",
       "    <tr>\n",
       "      <th>186393</th>\n",
       "      <td>1884</td>\n",
       "      <td>10</td>\n",
       "      <td>2024-12-22</td>\n",
       "      <td>quiz</td>\n",
       "      <td>1</td>\n",
       "      <td>126.000000</td>\n",
       "      <td>0.0</td>\n",
       "    </tr>\n",
       "    <tr>\n",
       "      <th>186394</th>\n",
       "      <td>1884</td>\n",
       "      <td>3</td>\n",
       "      <td>2024-12-22</td>\n",
       "      <td>activity</td>\n",
       "      <td>9</td>\n",
       "      <td>15.000000</td>\n",
       "      <td>0.0</td>\n",
       "    </tr>\n",
       "  </tbody>\n",
       "</table>\n",
       "<p>186395 rows × 7 columns</p>\n",
       "</div>"
      ],
      "text/plain": [
       "        user  missionID   createdAt      kind  TARGET  performance  reward\n",
       "0          4         26  2024-10-02      quiz       2     2.500000     0.0\n",
       "1          4         28  2024-10-02   episode       3     2.333333     0.0\n",
       "2          4          6  2024-10-02  activity       8     2.125000     0.0\n",
       "3          4         14  2024-10-02  activity      10     1.700000     0.0\n",
       "4          4         18  2024-10-02       exp      50     3.200000     0.0\n",
       "...      ...        ...         ...       ...     ...          ...     ...\n",
       "186390  1883         12  2024-12-22   episode       5     1.600000     0.0\n",
       "186391  1883         18  2024-12-22       exp      50     1.700000     0.0\n",
       "186392  1884          0  2024-12-22   episode       2     2.500000     0.0\n",
       "186393  1884         10  2024-12-22      quiz       1   126.000000     0.0\n",
       "186394  1884          3  2024-12-22  activity       9    15.000000     0.0\n",
       "\n",
       "[186395 rows x 7 columns]"
      ]
     },
     "execution_count": 1,
     "metadata": {},
     "output_type": "execute_result"
    }
   ],
   "source": [
    "import pandas as pd\n",
    "import matplotlib.pyplot as plt\n",
    "\n",
    "df = pd.read_csv('./data/bq-results-20241223-153559-1734968168534.csv')\n",
    "df = df[~df['missionCatalog_id'].isin(['f1455712-fa2b-4feb-b7f9-ab8ddfa29e8d', 'd090d147-1ac9-4963-9c2b-1f5e663bad44'])]\n",
    "\n",
    "df.rename(columns={'sub': 'user', 'missionCatalog_id': 'missionID'}, inplace=True)\n",
    "df['mission'] = df['kind'] + '_' + df['TARGET'].astype(str)\n",
    "\n",
    "df = df[['user', 'missionID', 'createdAt', 'kind', 'TARGET', 'performance']]\n",
    "df = df.groupby('user').filter(lambda x: x['createdAt'].nunique() > 7)\n",
    "df['createdAt'] = pd.to_datetime(df['createdAt']).dt.date\n",
    "\n",
    "df['user'] = df['user'].astype('category').cat.codes\n",
    "df['missionID'] = df['missionID'].astype('category').cat.codes\n",
    "df['kind'] = df['kind'].astype('category')\n",
    "\n",
    "def reward(x):\n",
    "    if x <= 1:\n",
    "        return x\n",
    "    return max(0, 2 - x**2)\n",
    "\n",
    "df['reward'] = df['performance'].apply(reward)\n",
    "\n",
    "df.sort_values(by=['createdAt', 'user'], inplace=True, ignore_index=True)\n",
    "df"
   ]
  },
  {
   "cell_type": "code",
   "execution_count": 2,
   "metadata": {},
   "outputs": [
    {
     "data": {
      "text/plain": [
       "user  missionID\n",
       "0     0            0.000000\n",
       "      1            0.185185\n",
       "      2            0.000000\n",
       "      3            0.000000\n",
       "      4            0.000000\n",
       "                     ...   \n",
       "1897  21           0.000000\n",
       "      22           0.500000\n",
       "      25           0.166667\n",
       "      27           0.500000\n",
       "      28           0.500000\n",
       "Name: mean, Length: 48913, dtype: float64"
      ]
     },
     "execution_count": 2,
     "metadata": {},
     "output_type": "execute_result"
    }
   ],
   "source": [
    "x = df.groupby(['user', 'missionID'])['reward'].agg(['mean', 'count'])\n",
    "x['mean']"
   ]
  },
  {
   "cell_type": "code",
   "execution_count": 3,
   "metadata": {},
   "outputs": [
    {
     "name": "stdout",
     "output_type": "stream",
     "text": [
      "Number of users: 1898\n",
      "Number of missions: 30\n",
      "Index(['action', 'activity', 'episode', 'exp', 'mobility', 'quiz'], dtype='object')\n"
     ]
    }
   ],
   "source": [
    "n_users = df['user'].nunique()\n",
    "n_missions = df['missionID'].nunique()\n",
    "\n",
    "print(f'Number of users: {n_users}')\n",
    "print(f'Number of missions: {n_missions}')\n",
    "\n",
    "print(df['kind'].cat.categories)"
   ]
  },
  {
   "cell_type": "code",
   "execution_count": 7,
   "metadata": {},
   "outputs": [
    {
     "data": {
      "text/plain": [
       "<Axes: xlabel='missionID'>"
      ]
     },
     "execution_count": 7,
     "metadata": {},
     "output_type": "execute_result"
    },
    {
     "data": {
      "image/png": "[encoded data removed]",
      "text/plain": [
       "<Figure size 1000x600 with 1 Axes>"
      ]
     },
     "metadata": {},
     "output_type": "display_data"
    }
   ],
   "source": [
    "plt.figure(figsize=(10, 6))\n",
    "\n",
    "df['missionID'].value_counts(normalize=True).plot(kind='bar')"
   ]
  },
  {
   "cell_type": "code",
   "execution_count": null,
   "metadata": {},
   "outputs": [],
   "source": [
    "df['performance'].apply(lambda x: x >= 1).value_counts().plot(kind='pie', autopct='%1.1f%%', startangle=90, labels=['Failed', 'Succeeded'])"
   ]
  },
  {
   "cell_type": "code",
   "execution_count": null,
   "metadata": {},
   "outputs": [],
   "source": [
    "plt.figure(figsize=(10, 6))\n",
    "\n",
    "df.groupby('kind', observed=True).size().plot(kind='bar')"
   ]
  },
  {
   "cell_type": "code",
   "execution_count": null,
   "metadata": {},
   "outputs": [],
   "source": [
    "df.groupby('user', observed=True)['createdAt'].nunique().plot.hist(bins=50,title='Number of missions per user',xlabel='Number of missions',ylabel='Number of users')"
   ]
  },
  {
   "cell_type": "code",
   "execution_count": null,
   "metadata": {},
   "outputs": [],
   "source": [
    "import numpy as np\n",
    "\n",
    "def reward(x):\n",
    "    if x <= 1:\n",
    "        return x\n",
    "    return np.maximum(0, 2 - np.power(x, 2))\n",
    "\n",
    "x = np.linspace(0, 2, 100)\n",
    "y = [reward(i) for i in x]\n",
    "\n",
    "import matplotlib.pyplot as plt\n",
    "plt.figure(figsize=(10, 6))\n",
    "\n",
    "plt.title('Value of reward function over performance', fontsize=20)\n",
    "plt.plot(x, y, label='Reward')\n",
    "plt.fill_between(x, [1] * len(x), alpha=0.3, color='#E66100', where = x >= 1, label='Mission with overshoot')\n",
    "plt.fill_between(x, [1] * len(x), alpha=0.3, color='#5D3A9B', where = x <= 1, label='Mission failed')\n",
    "plt.legend(fontsize=12)\n",
    "plt.xlabel('Observed performance (relative to target)', fontsize=14)\n",
    "plt.ylabel('Reward value', fontsize=14)\n",
    "plt.grid()\n",
    "plt.savefig('out/reward_function.pdf', format='pdf')\n",
    "plt.show()"
   ]
  }
 ],
 "metadata": {
  "kernelspec": {
   "display_name": "Python 3",
   "language": "python",
   "name": "python3"
  },
  "language_info": {
   "codemirror_mode": {
    "name": "ipython",
    "version": 3
   },
   "file_extension": ".py",
   "mimetype": "text/x-python",
   "name": "python",
   "nbconvert_exporter": "python",
   "pygments_lexer": "ipython3",
   "version": "3.12.7"
  }
 },
 "nbformat": 4,
 "nbformat_minor": 2
}
