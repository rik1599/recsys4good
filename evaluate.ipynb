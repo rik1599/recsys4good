{
 "cells": [
  {
   "cell_type": "code",
   "execution_count": 2,
   "metadata": {},
   "outputs": [],
   "source": [
    "from matplotlib import pyplot as plt\n",
    "import pandas as pd\n",
    "\n",
    "df = pd.concat((\n",
    "    pd.read_csv('./out/replay_results.csv', index_col=[0, 1]),\n",
    "    pd.read_csv('./out/replay_results_baseline.csv', index_col=[0, 1]),\n",
    "))"
   ]
  },
  {
   "cell_type": "code",
   "execution_count": null,
   "metadata": {},
   "outputs": [],
   "source": [
    "plt.figure(figsize=(10, 6))\n",
    "plt.axes().xaxis.set_major_locator(plt.MaxNLocator(10))\n",
    "for marker, (name, group) in zip(['o', 'h', 'X', '8', 's', 'd'], df.groupby(level=0)):\n",
    "    m = group.mean(axis=1)\n",
    "    s = group.std(axis=1)\n",
    "    plt.plot(group.index.get_level_values(1), m, label=name, marker=marker, markersize=5)\n",
    "    plt.fill_between(group.index.get_level_values(1), m - s, m + s, alpha=0.3)\n",
    "\n",
    "plt.title('Cumulative reward from 2024-10-01 to 2024-11-30')\n",
    "plt.ylabel('Cumulative reward')\n",
    "plt.xlabel('Assignment date')\n",
    "plt.legend()\n",
    "plt.xticks(rotation=45)\n",
    "plt.savefig('./out/cumulative_reward.pdf', format='pdf')\n",
    "plt.show()"
   ]
  },
  {
   "cell_type": "code",
   "execution_count": null,
   "metadata": {},
   "outputs": [],
   "source": [
    "import seaborn as sns\n",
    "lasted = df.groupby(level=0).last().T\n",
    "rank = lasted.median().sort_values(ascending=False).index\n",
    "\n",
    "plt.figure(figsize=(10, 5))\n",
    "sns.boxplot(data=lasted, color='white', order=rank)\n",
    "sns.swarmplot(data=lasted)\n",
    "plt.title('Cumulated reward distribution at 2024-11-30')\n",
    "plt.ylabel('Cumulative reward')\n",
    "plt.xlabel('Policy')\n",
    "plt.savefig('./out/cumulative_reward_2.pdf', format='pdf')\n",
    "plt.show()"
   ]
  }
 ],
 "metadata": {
  "kernelspec": {
   "display_name": "Python 3",
   "language": "python",
   "name": "python3"
  },
  "language_info": {
   "codemirror_mode": {
    "name": "ipython",
    "version": 3
   },
   "file_extension": ".py",
   "mimetype": "text/x-python",
   "name": "python",
   "nbconvert_exporter": "python",
   "pygments_lexer": "ipython3",
   "version": "3.12.7"
  }
 },
 "nbformat": 4,
 "nbformat_minor": 2
}
