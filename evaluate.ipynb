{
 "cells": [
  {
   "cell_type": "code",
   "execution_count": 1,
   "metadata": {},
   "outputs": [
    {
     "data": {
      "text/html": [
       "<div>\n",
       "<style scoped>\n",
       "    .dataframe tbody tr th:only-of-type {\n",
       "        vertical-align: middle;\n",
       "    }\n",
       "\n",
       "    .dataframe tbody tr th {\n",
       "        vertical-align: top;\n",
       "    }\n",
       "\n",
       "    .dataframe thead th {\n",
       "        text-align: right;\n",
       "    }\n",
       "</style>\n",
       "<table border=\"1\" class=\"dataframe\">\n",
       "  <thead>\n",
       "    <tr style=\"text-align: right;\">\n",
       "      <th></th>\n",
       "      <th>history</th>\n",
       "      <th>positives</th>\n",
       "    </tr>\n",
       "    <tr>\n",
       "      <th>id</th>\n",
       "      <th></th>\n",
       "      <th></th>\n",
       "    </tr>\n",
       "  </thead>\n",
       "  <tbody>\n",
       "    <tr>\n",
       "      <th>1005_2024-11-06</th>\n",
       "      <td>[[26, 0], [5, 1], [16, 1]]</td>\n",
       "      <td>{6}</td>\n",
       "    </tr>\n",
       "    <tr>\n",
       "      <th>1008_2024-11-04</th>\n",
       "      <td>[[2, 1], [28, 0], [18, 1]]</td>\n",
       "      <td>{6}</td>\n",
       "    </tr>\n",
       "    <tr>\n",
       "      <th>1008_2024-11-05</th>\n",
       "      <td>[[2, 1], [28, 0], [18, 1], [28, 0], [6, 1], [1...</td>\n",
       "      <td>{10, 30, 14}</td>\n",
       "    </tr>\n",
       "    <tr>\n",
       "      <th>1008_2024-11-06</th>\n",
       "      <td>[[2, 1], [28, 0], [18, 1], [28, 0], [6, 1], [1...</td>\n",
       "      <td>{0, 18, 11}</td>\n",
       "    </tr>\n",
       "    <tr>\n",
       "      <th>1008_2024-11-07</th>\n",
       "      <td>[[28, 0], [6, 1], [19, 0], [30, 1], [14, 1], [...</td>\n",
       "      <td>{5, 15}</td>\n",
       "    </tr>\n",
       "    <tr>\n",
       "      <th>...</th>\n",
       "      <td>...</td>\n",
       "      <td>...</td>\n",
       "    </tr>\n",
       "    <tr>\n",
       "      <th>957_2024-11-06</th>\n",
       "      <td>[[1, 0], [9, 0], [19, 0], [22, 0], [0, 0], [7,...</td>\n",
       "      <td>{2}</td>\n",
       "    </tr>\n",
       "    <tr>\n",
       "      <th>957_2024-11-07</th>\n",
       "      <td>[[22, 0], [0, 0], [7, 0], [21, 0], [15, 0], [2...</td>\n",
       "      <td>{2}</td>\n",
       "    </tr>\n",
       "    <tr>\n",
       "      <th>972_2024-11-01</th>\n",
       "      <td>[[21, 0], [17, 0], [0, 1], [12, 0], [26, 0], [...</td>\n",
       "      <td>{1}</td>\n",
       "    </tr>\n",
       "    <tr>\n",
       "      <th>972_2024-11-05</th>\n",
       "      <td>[[20, 0], [25, 0], [10, 0], [22, 0], [25, 0], ...</td>\n",
       "      <td>{2, 21}</td>\n",
       "    </tr>\n",
       "    <tr>\n",
       "      <th>972_2024-11-06</th>\n",
       "      <td>[[22, 0], [25, 0], [5, 0], [13, 0], [27, 0], [...</td>\n",
       "      <td>{5, 21}</td>\n",
       "    </tr>\n",
       "  </tbody>\n",
       "</table>\n",
       "<p>2074 rows × 2 columns</p>\n",
       "</div>"
      ],
      "text/plain": [
       "                                                           history  \\\n",
       "id                                                                   \n",
       "1005_2024-11-06                         [[26, 0], [5, 1], [16, 1]]   \n",
       "1008_2024-11-04                         [[2, 1], [28, 0], [18, 1]]   \n",
       "1008_2024-11-05  [[2, 1], [28, 0], [18, 1], [28, 0], [6, 1], [1...   \n",
       "1008_2024-11-06  [[2, 1], [28, 0], [18, 1], [28, 0], [6, 1], [1...   \n",
       "1008_2024-11-07  [[28, 0], [6, 1], [19, 0], [30, 1], [14, 1], [...   \n",
       "...                                                            ...   \n",
       "957_2024-11-06   [[1, 0], [9, 0], [19, 0], [22, 0], [0, 0], [7,...   \n",
       "957_2024-11-07   [[22, 0], [0, 0], [7, 0], [21, 0], [15, 0], [2...   \n",
       "972_2024-11-01   [[21, 0], [17, 0], [0, 1], [12, 0], [26, 0], [...   \n",
       "972_2024-11-05   [[20, 0], [25, 0], [10, 0], [22, 0], [25, 0], ...   \n",
       "972_2024-11-06   [[22, 0], [25, 0], [5, 0], [13, 0], [27, 0], [...   \n",
       "\n",
       "                    positives  \n",
       "id                             \n",
       "1005_2024-11-06           {6}  \n",
       "1008_2024-11-04           {6}  \n",
       "1008_2024-11-05  {10, 30, 14}  \n",
       "1008_2024-11-06   {0, 18, 11}  \n",
       "1008_2024-11-07       {5, 15}  \n",
       "...                       ...  \n",
       "957_2024-11-06            {2}  \n",
       "957_2024-11-07            {2}  \n",
       "972_2024-11-01            {1}  \n",
       "972_2024-11-05        {2, 21}  \n",
       "972_2024-11-06        {5, 21}  \n",
       "\n",
       "[2074 rows x 2 columns]"
      ]
     },
     "execution_count": 1,
     "metadata": {},
     "output_type": "execute_result"
    }
   ],
   "source": [
    "import pandas as pd\n",
    "from tqdm.auto import tqdm\n",
    "tqdm.pandas()\n",
    "\n",
    "test_df: pd.DataFrame = pd.read_pickle('data/test.pkl')\n",
    "\n",
    "test_df = test_df.groupby('id').apply(lambda x: pd.Series({\n",
    "    'history': x['history'].iloc[0],\n",
    "    'positives': set(x['ID'])\n",
    "}), include_groups=False)\n",
    "test_df"
   ]
  },
  {
   "cell_type": "code",
   "execution_count": 2,
   "metadata": {},
   "outputs": [
    {
     "name": "stderr",
     "output_type": "stream",
     "text": [
      "/tmp/ipykernel_17211/133253311.py:5: FutureWarning: You are using `torch.load` with `weights_only=False` (the current default value), which uses the default pickle module implicitly. It is possible to construct malicious pickle data which will execute arbitrary code during unpickling (See https://github.com/pytorch/pytorch/blob/main/SECURITY.md#untrusted-models for more details). In a future release, the default value for `weights_only` will be flipped to `True`. This limits the functions that could be executed during unpickling. Arbitrary objects will no longer be allowed to be loaded via this mode unless they are explicitly allowlisted by the user via `torch.serialization.add_safe_globals`. We recommend you start setting `weights_only=True` for any use case where you don't have full control of the loaded file. Please open an issue on GitHub for any issues related to this experimental feature.\n",
      "  model: GRU4Rec = torch.load('models/gru4rec.pth')\n"
     ]
    },
    {
     "data": {
      "application/vnd.jupyter.widget-view+json": {
       "model_id": "7c066cff949b4e6cbd55dbddb5f2ef94",
       "version_major": 2,
       "version_minor": 0
      },
      "text/plain": [
       "  0%|          | 0/2074 [00:00<?, ?it/s]"
      ]
     },
     "metadata": {},
     "output_type": "display_data"
    },
    {
     "data": {
      "application/vnd.jupyter.widget-view+json": {
       "model_id": "1b00e93227b949a8be7abe5c846eef92",
       "version_major": 2,
       "version_minor": 0
      },
      "text/plain": [
       "  0%|          | 0/2074 [00:00<?, ?it/s]"
      ]
     },
     "metadata": {},
     "output_type": "display_data"
    },
    {
     "data": {
      "text/html": [
       "<div>\n",
       "<style scoped>\n",
       "    .dataframe tbody tr th:only-of-type {\n",
       "        vertical-align: middle;\n",
       "    }\n",
       "\n",
       "    .dataframe tbody tr th {\n",
       "        vertical-align: top;\n",
       "    }\n",
       "\n",
       "    .dataframe thead th {\n",
       "        text-align: right;\n",
       "    }\n",
       "</style>\n",
       "<table border=\"1\" class=\"dataframe\">\n",
       "  <thead>\n",
       "    <tr style=\"text-align: right;\">\n",
       "      <th></th>\n",
       "      <th>history</th>\n",
       "      <th>positives</th>\n",
       "      <th>gru4rec</th>\n",
       "      <th>random</th>\n",
       "    </tr>\n",
       "    <tr>\n",
       "      <th>id</th>\n",
       "      <th></th>\n",
       "      <th></th>\n",
       "      <th></th>\n",
       "      <th></th>\n",
       "    </tr>\n",
       "  </thead>\n",
       "  <tbody>\n",
       "    <tr>\n",
       "      <th>1005_2024-11-06</th>\n",
       "      <td>[[26, 0], [5, 1], [16, 1]]</td>\n",
       "      <td>{6}</td>\n",
       "      <td>[30, 2, 4, 0, 31, 24, 25, 5, 12, 26, 6, 7, 13,...</td>\n",
       "      <td>[1, 8, 16, 9, 10, 17, 22, 29, 30, 24, 26, 21, ...</td>\n",
       "    </tr>\n",
       "    <tr>\n",
       "      <th>1008_2024-11-04</th>\n",
       "      <td>[[2, 1], [28, 0], [18, 1]]</td>\n",
       "      <td>{6}</td>\n",
       "      <td>[30, 2, 4, 0, 25, 31, 24, 5, 12, 26, 13, 14, 7...</td>\n",
       "      <td>[19, 25, 30, 20, 23, 8, 7, 16, 24, 12, 11, 2, ...</td>\n",
       "    </tr>\n",
       "    <tr>\n",
       "      <th>1008_2024-11-05</th>\n",
       "      <td>[[2, 1], [28, 0], [18, 1], [28, 0], [6, 1], [1...</td>\n",
       "      <td>{10, 30, 14}</td>\n",
       "      <td>[30, 2, 4, 24, 0, 5, 25, 31, 12, 26, 6, 13, 14...</td>\n",
       "      <td>[7, 30, 13, 29, 28, 9, 6, 20, 27, 15, 21, 12, ...</td>\n",
       "    </tr>\n",
       "    <tr>\n",
       "      <th>1008_2024-11-06</th>\n",
       "      <td>[[2, 1], [28, 0], [18, 1], [28, 0], [6, 1], [1...</td>\n",
       "      <td>{0, 18, 11}</td>\n",
       "      <td>[30, 2, 31, 4, 25, 5, 0, 24, 12, 13, 6, 7, 26,...</td>\n",
       "      <td>[2, 28, 16, 9, 13, 7, 27, 18, 22, 8, 29, 10, 6...</td>\n",
       "    </tr>\n",
       "    <tr>\n",
       "      <th>1008_2024-11-07</th>\n",
       "      <td>[[28, 0], [6, 1], [19, 0], [30, 1], [14, 1], [...</td>\n",
       "      <td>{5, 15}</td>\n",
       "      <td>[30, 2, 25, 31, 4, 24, 5, 0, 12, 13, 14, 26, 1...</td>\n",
       "      <td>[7, 20, 11, 4, 1, 21, 8, 22, 16, 30, 23, 29, 2...</td>\n",
       "    </tr>\n",
       "    <tr>\n",
       "      <th>...</th>\n",
       "      <td>...</td>\n",
       "      <td>...</td>\n",
       "      <td>...</td>\n",
       "      <td>...</td>\n",
       "    </tr>\n",
       "    <tr>\n",
       "      <th>957_2024-11-06</th>\n",
       "      <td>[[1, 0], [9, 0], [19, 0], [22, 0], [0, 0], [7,...</td>\n",
       "      <td>{2}</td>\n",
       "      <td>[2, 30, 4, 0, 5, 12, 31, 24, 25, 6, 26, 7, 13,...</td>\n",
       "      <td>[14, 20, 22, 5, 17, 6, 2, 29, 8, 26, 18, 1, 15...</td>\n",
       "    </tr>\n",
       "    <tr>\n",
       "      <th>957_2024-11-07</th>\n",
       "      <td>[[22, 0], [0, 0], [7, 0], [21, 0], [15, 0], [2...</td>\n",
       "      <td>{2}</td>\n",
       "      <td>[2, 30, 4, 0, 5, 12, 31, 24, 25, 7, 26, 6, 13,...</td>\n",
       "      <td>[28, 14, 10, 12, 17, 13, 22, 29, 26, 5, 21, 24...</td>\n",
       "    </tr>\n",
       "    <tr>\n",
       "      <th>972_2024-11-01</th>\n",
       "      <td>[[21, 0], [17, 0], [0, 1], [12, 0], [26, 0], [...</td>\n",
       "      <td>{1}</td>\n",
       "      <td>[2, 30, 4, 0, 31, 5, 12, 25, 24, 6, 7, 26, 13,...</td>\n",
       "      <td>[9, 24, 28, 1, 7, 2, 22, 4, 8, 6, 19, 20, 29, ...</td>\n",
       "    </tr>\n",
       "    <tr>\n",
       "      <th>972_2024-11-05</th>\n",
       "      <td>[[20, 0], [25, 0], [10, 0], [22, 0], [25, 0], ...</td>\n",
       "      <td>{2, 21}</td>\n",
       "      <td>[2, 30, 4, 0, 24, 12, 5, 31, 25, 26, 6, 13, 7,...</td>\n",
       "      <td>[12, 14, 10, 21, 29, 5, 30, 17, 3, 7, 0, 25, 2...</td>\n",
       "    </tr>\n",
       "    <tr>\n",
       "      <th>972_2024-11-06</th>\n",
       "      <td>[[22, 0], [25, 0], [5, 0], [13, 0], [27, 0], [...</td>\n",
       "      <td>{5, 21}</td>\n",
       "      <td>[2, 30, 4, 5, 0, 12, 25, 24, 31, 6, 26, 13, 7,...</td>\n",
       "      <td>[6, 12, 18, 11, 26, 24, 19, 13, 27, 17, 10, 8,...</td>\n",
       "    </tr>\n",
       "  </tbody>\n",
       "</table>\n",
       "<p>2074 rows × 4 columns</p>\n",
       "</div>"
      ],
      "text/plain": [
       "                                                           history  \\\n",
       "id                                                                   \n",
       "1005_2024-11-06                         [[26, 0], [5, 1], [16, 1]]   \n",
       "1008_2024-11-04                         [[2, 1], [28, 0], [18, 1]]   \n",
       "1008_2024-11-05  [[2, 1], [28, 0], [18, 1], [28, 0], [6, 1], [1...   \n",
       "1008_2024-11-06  [[2, 1], [28, 0], [18, 1], [28, 0], [6, 1], [1...   \n",
       "1008_2024-11-07  [[28, 0], [6, 1], [19, 0], [30, 1], [14, 1], [...   \n",
       "...                                                            ...   \n",
       "957_2024-11-06   [[1, 0], [9, 0], [19, 0], [22, 0], [0, 0], [7,...   \n",
       "957_2024-11-07   [[22, 0], [0, 0], [7, 0], [21, 0], [15, 0], [2...   \n",
       "972_2024-11-01   [[21, 0], [17, 0], [0, 1], [12, 0], [26, 0], [...   \n",
       "972_2024-11-05   [[20, 0], [25, 0], [10, 0], [22, 0], [25, 0], ...   \n",
       "972_2024-11-06   [[22, 0], [25, 0], [5, 0], [13, 0], [27, 0], [...   \n",
       "\n",
       "                    positives  \\\n",
       "id                              \n",
       "1005_2024-11-06           {6}   \n",
       "1008_2024-11-04           {6}   \n",
       "1008_2024-11-05  {10, 30, 14}   \n",
       "1008_2024-11-06   {0, 18, 11}   \n",
       "1008_2024-11-07       {5, 15}   \n",
       "...                       ...   \n",
       "957_2024-11-06            {2}   \n",
       "957_2024-11-07            {2}   \n",
       "972_2024-11-01            {1}   \n",
       "972_2024-11-05        {2, 21}   \n",
       "972_2024-11-06        {5, 21}   \n",
       "\n",
       "                                                           gru4rec  \\\n",
       "id                                                                   \n",
       "1005_2024-11-06  [30, 2, 4, 0, 31, 24, 25, 5, 12, 26, 6, 7, 13,...   \n",
       "1008_2024-11-04  [30, 2, 4, 0, 25, 31, 24, 5, 12, 26, 13, 14, 7...   \n",
       "1008_2024-11-05  [30, 2, 4, 24, 0, 5, 25, 31, 12, 26, 6, 13, 14...   \n",
       "1008_2024-11-06  [30, 2, 31, 4, 25, 5, 0, 24, 12, 13, 6, 7, 26,...   \n",
       "1008_2024-11-07  [30, 2, 25, 31, 4, 24, 5, 0, 12, 13, 14, 26, 1...   \n",
       "...                                                            ...   \n",
       "957_2024-11-06   [2, 30, 4, 0, 5, 12, 31, 24, 25, 6, 26, 7, 13,...   \n",
       "957_2024-11-07   [2, 30, 4, 0, 5, 12, 31, 24, 25, 7, 26, 6, 13,...   \n",
       "972_2024-11-01   [2, 30, 4, 0, 31, 5, 12, 25, 24, 6, 7, 26, 13,...   \n",
       "972_2024-11-05   [2, 30, 4, 0, 24, 12, 5, 31, 25, 26, 6, 13, 7,...   \n",
       "972_2024-11-06   [2, 30, 4, 5, 0, 12, 25, 24, 31, 6, 26, 13, 7,...   \n",
       "\n",
       "                                                            random  \n",
       "id                                                                  \n",
       "1005_2024-11-06  [1, 8, 16, 9, 10, 17, 22, 29, 30, 24, 26, 21, ...  \n",
       "1008_2024-11-04  [19, 25, 30, 20, 23, 8, 7, 16, 24, 12, 11, 2, ...  \n",
       "1008_2024-11-05  [7, 30, 13, 29, 28, 9, 6, 20, 27, 15, 21, 12, ...  \n",
       "1008_2024-11-06  [2, 28, 16, 9, 13, 7, 27, 18, 22, 8, 29, 10, 6...  \n",
       "1008_2024-11-07  [7, 20, 11, 4, 1, 21, 8, 22, 16, 30, 23, 29, 2...  \n",
       "...                                                            ...  \n",
       "957_2024-11-06   [14, 20, 22, 5, 17, 6, 2, 29, 8, 26, 18, 1, 15...  \n",
       "957_2024-11-07   [28, 14, 10, 12, 17, 13, 22, 29, 26, 5, 21, 24...  \n",
       "972_2024-11-01   [9, 24, 28, 1, 7, 2, 22, 4, 8, 6, 19, 20, 29, ...  \n",
       "972_2024-11-05   [12, 14, 10, 21, 29, 5, 30, 17, 3, 7, 0, 25, 2...  \n",
       "972_2024-11-06   [6, 12, 18, 11, 26, 24, 19, 13, 27, 17, 10, 8,...  \n",
       "\n",
       "[2074 rows x 4 columns]"
      ]
     },
     "execution_count": 2,
     "metadata": {},
     "output_type": "execute_result"
    }
   ],
   "source": [
    "import torch\n",
    "import numpy as np\n",
    "from src.gru4rec import GRU4Rec, DEVICE\n",
    "\n",
    "model: GRU4Rec = torch.load('models/gru4rec.pth')\n",
    "model.eval()\n",
    "missions = pd.read_csv('data/missions.csv')\n",
    "\n",
    "def rank(x):\n",
    "    history = torch.from_numpy(x['history']).view(1, -1, 2).to(DEVICE)\n",
    "    with torch.no_grad():\n",
    "        scores = model(history).view(-1).detach().cpu().numpy()\n",
    "    return np.argsort(scores)[::-1]\n",
    "\n",
    "def random_rank(_):\n",
    "    return np.random.permutation(len(missions))\n",
    "\n",
    "test_df['gru4rec'] = test_df.progress_apply(rank, axis=1)\n",
    "test_df['random'] = test_df.progress_apply(random_rank, axis=1)\n",
    "test_df"
   ]
  },
  {
   "cell_type": "code",
   "execution_count": 3,
   "metadata": {},
   "outputs": [
    {
     "data": {
      "application/vnd.jupyter.widget-view+json": {
       "model_id": "a7f61056814d4121a3c948df51ee771a",
       "version_major": 2,
       "version_minor": 0
      },
      "text/plain": [
       "  0%|          | 0/2074 [00:00<?, ?it/s]"
      ]
     },
     "metadata": {},
     "output_type": "display_data"
    },
    {
     "data": {
      "application/vnd.jupyter.widget-view+json": {
       "model_id": "06a89fc388dd46fb99c30f9160847428",
       "version_major": 2,
       "version_minor": 0
      },
      "text/plain": [
       "  0%|          | 0/2074 [00:00<?, ?it/s]"
      ]
     },
     "metadata": {},
     "output_type": "display_data"
    },
    {
     "data": {
      "application/vnd.jupyter.widget-view+json": {
       "model_id": "39921a0ff70d459b8f80e5af1b18621d",
       "version_major": 2,
       "version_minor": 0
      },
      "text/plain": [
       "  0%|          | 0/2074 [00:00<?, ?it/s]"
      ]
     },
     "metadata": {},
     "output_type": "display_data"
    },
    {
     "data": {
      "application/vnd.jupyter.widget-view+json": {
       "model_id": "e5499095ca1347be82c00e48a92df6bf",
       "version_major": 2,
       "version_minor": 0
      },
      "text/plain": [
       "  0%|          | 0/2074 [00:00<?, ?it/s]"
      ]
     },
     "metadata": {},
     "output_type": "display_data"
    },
    {
     "data": {
      "application/vnd.jupyter.widget-view+json": {
       "model_id": "17d63de26fc44c6c8453f3dca27a03cb",
       "version_major": 2,
       "version_minor": 0
      },
      "text/plain": [
       "  0%|          | 0/2074 [00:00<?, ?it/s]"
      ]
     },
     "metadata": {},
     "output_type": "display_data"
    },
    {
     "data": {
      "application/vnd.jupyter.widget-view+json": {
       "model_id": "7f875c9eafc34ea08cb64d414f1e2f70",
       "version_major": 2,
       "version_minor": 0
      },
      "text/plain": [
       "  0%|          | 0/2074 [00:00<?, ?it/s]"
      ]
     },
     "metadata": {},
     "output_type": "display_data"
    },
    {
     "data": {
      "application/vnd.jupyter.widget-view+json": {
       "model_id": "983f4bfe41db40fab71181d42e366279",
       "version_major": 2,
       "version_minor": 0
      },
      "text/plain": [
       "  0%|          | 0/2074 [00:00<?, ?it/s]"
      ]
     },
     "metadata": {},
     "output_type": "display_data"
    },
    {
     "data": {
      "application/vnd.jupyter.widget-view+json": {
       "model_id": "5b1e95e855554ddea68ae2bad060e84d",
       "version_major": 2,
       "version_minor": 0
      },
      "text/plain": [
       "  0%|          | 0/2074 [00:00<?, ?it/s]"
      ]
     },
     "metadata": {},
     "output_type": "display_data"
    },
    {
     "data": {
      "text/html": [
       "<div>\n",
       "<style scoped>\n",
       "    .dataframe tbody tr th:only-of-type {\n",
       "        vertical-align: middle;\n",
       "    }\n",
       "\n",
       "    .dataframe tbody tr th {\n",
       "        vertical-align: top;\n",
       "    }\n",
       "\n",
       "    .dataframe thead th {\n",
       "        text-align: right;\n",
       "    }\n",
       "</style>\n",
       "<table border=\"1\" class=\"dataframe\">\n",
       "  <thead>\n",
       "    <tr style=\"text-align: right;\">\n",
       "      <th></th>\n",
       "      <th>gru4rec</th>\n",
       "      <th>random</th>\n",
       "    </tr>\n",
       "  </thead>\n",
       "  <tbody>\n",
       "    <tr>\n",
       "      <th>recall@5</th>\n",
       "      <td>0.341160</td>\n",
       "      <td>0.158052</td>\n",
       "    </tr>\n",
       "    <tr>\n",
       "      <th>recall@10</th>\n",
       "      <td>0.550852</td>\n",
       "      <td>0.320869</td>\n",
       "    </tr>\n",
       "    <tr>\n",
       "      <th>hit_rate@5</th>\n",
       "      <td>0.552555</td>\n",
       "      <td>0.296046</td>\n",
       "    </tr>\n",
       "    <tr>\n",
       "      <th>hit_rate@10</th>\n",
       "      <td>0.842334</td>\n",
       "      <td>0.535198</td>\n",
       "    </tr>\n",
       "  </tbody>\n",
       "</table>\n",
       "</div>"
      ],
      "text/plain": [
       "              gru4rec    random\n",
       "recall@5     0.341160  0.158052\n",
       "recall@10    0.550852  0.320869\n",
       "hit_rate@5   0.552555  0.296046\n",
       "hit_rate@10  0.842334  0.535198"
      ]
     },
     "execution_count": 3,
     "metadata": {},
     "output_type": "execute_result"
    }
   ],
   "source": [
    "def recall(x, model, k=5):\n",
    "    top_k = set(x[model][:k])\n",
    "    return len(x['positives'] & top_k) / len(x['positives'])\n",
    "\n",
    "def hit_rate(x, model, k=5):\n",
    "    top_k = set(x[model][:k])\n",
    "    return len(x['positives'] & top_k) > 0\n",
    "\n",
    "pd.DataFrame({\n",
    "    'gru4rec': {\n",
    "        'recall@5': test_df.progress_apply(lambda x: recall(x, 'gru4rec'), axis=1).mean(),\n",
    "        'recall@10': test_df.progress_apply(lambda x: recall(x, 'gru4rec', k=10), axis=1).mean(),\n",
    "        'hit_rate@5': test_df.progress_apply(lambda x: hit_rate(x, 'gru4rec'), axis=1).mean(),\n",
    "        'hit_rate@10': test_df.progress_apply(lambda x: hit_rate(x, 'gru4rec', k=10), axis=1).mean()\n",
    "    },\n",
    "    'random': {\n",
    "        'recall@5': test_df.progress_apply(lambda x: recall(x, 'random'), axis=1).mean(),\n",
    "        'recall@10': test_df.progress_apply(lambda x: recall(x, 'random', k=10), axis=1).mean(),\n",
    "        'hit_rate@5': test_df.progress_apply(lambda x: hit_rate(x, 'random'), axis=1).mean(),\n",
    "        'hit_rate@10': test_df.progress_apply(lambda x: hit_rate(x, 'random', k=10), axis=1).mean()\n",
    "    }\n",
    "})"
   ]
  }
 ],
 "metadata": {
  "kernelspec": {
   "display_name": "Python 3",
   "language": "python",
   "name": "python3"
  },
  "language_info": {
   "codemirror_mode": {
    "name": "ipython",
    "version": 3
   },
   "file_extension": ".py",
   "mimetype": "text/x-python",
   "name": "python",
   "nbconvert_exporter": "python",
   "pygments_lexer": "ipython3",
   "version": "3.12.7"
  }
 },
 "nbformat": 4,
 "nbformat_minor": 2
}
