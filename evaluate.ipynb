{
 "cells": [
  {
   "cell_type": "code",
   "execution_count": 1,
   "metadata": {},
   "outputs": [
    {
     "data": {
      "text/html": [
       "<div>\n",
       "<style scoped>\n",
       "    .dataframe tbody tr th:only-of-type {\n",
       "        vertical-align: middle;\n",
       "    }\n",
       "\n",
       "    .dataframe tbody tr th {\n",
       "        vertical-align: top;\n",
       "    }\n",
       "\n",
       "    .dataframe thead th {\n",
       "        text-align: right;\n",
       "    }\n",
       "</style>\n",
       "<table border=\"1\" class=\"dataframe\">\n",
       "  <thead>\n",
       "    <tr style=\"text-align: right;\">\n",
       "      <th></th>\n",
       "      <th>history</th>\n",
       "      <th>positives</th>\n",
       "    </tr>\n",
       "    <tr>\n",
       "      <th>id</th>\n",
       "      <th></th>\n",
       "      <th></th>\n",
       "    </tr>\n",
       "  </thead>\n",
       "  <tbody>\n",
       "    <tr>\n",
       "      <th>1005_2024-11-06</th>\n",
       "      <td>[[26, 0], [5, 1], [16, 1]]</td>\n",
       "      <td>{6}</td>\n",
       "    </tr>\n",
       "    <tr>\n",
       "      <th>1008_2024-11-04</th>\n",
       "      <td>[[2, 1], [28, 0], [18, 1]]</td>\n",
       "      <td>{6}</td>\n",
       "    </tr>\n",
       "    <tr>\n",
       "      <th>1008_2024-11-05</th>\n",
       "      <td>[[2, 1], [28, 0], [18, 1], [28, 0], [6, 1], [1...</td>\n",
       "      <td>{10, 30, 14}</td>\n",
       "    </tr>\n",
       "    <tr>\n",
       "      <th>1008_2024-11-06</th>\n",
       "      <td>[[2, 1], [28, 0], [18, 1], [28, 0], [6, 1], [1...</td>\n",
       "      <td>{0, 18, 11}</td>\n",
       "    </tr>\n",
       "    <tr>\n",
       "      <th>1008_2024-11-07</th>\n",
       "      <td>[[28, 0], [6, 1], [19, 0], [30, 1], [14, 1], [...</td>\n",
       "      <td>{5, 15}</td>\n",
       "    </tr>\n",
       "    <tr>\n",
       "      <th>...</th>\n",
       "      <td>...</td>\n",
       "      <td>...</td>\n",
       "    </tr>\n",
       "    <tr>\n",
       "      <th>957_2024-11-06</th>\n",
       "      <td>[[1, 0], [9, 0], [19, 0], [22, 0], [0, 0], [7,...</td>\n",
       "      <td>{2}</td>\n",
       "    </tr>\n",
       "    <tr>\n",
       "      <th>957_2024-11-07</th>\n",
       "      <td>[[22, 0], [0, 0], [7, 0], [21, 0], [15, 0], [2...</td>\n",
       "      <td>{2}</td>\n",
       "    </tr>\n",
       "    <tr>\n",
       "      <th>972_2024-11-01</th>\n",
       "      <td>[[21, 0], [17, 0], [0, 1], [12, 0], [26, 0], [...</td>\n",
       "      <td>{1}</td>\n",
       "    </tr>\n",
       "    <tr>\n",
       "      <th>972_2024-11-05</th>\n",
       "      <td>[[20, 0], [25, 0], [10, 0], [22, 0], [25, 0], ...</td>\n",
       "      <td>{2, 21}</td>\n",
       "    </tr>\n",
       "    <tr>\n",
       "      <th>972_2024-11-06</th>\n",
       "      <td>[[22, 0], [25, 0], [5, 0], [13, 0], [27, 0], [...</td>\n",
       "      <td>{5, 21}</td>\n",
       "    </tr>\n",
       "  </tbody>\n",
       "</table>\n",
       "<p>2074 rows × 2 columns</p>\n",
       "</div>"
      ],
      "text/plain": [
       "                                                           history  \\\n",
       "id                                                                   \n",
       "1005_2024-11-06                         [[26, 0], [5, 1], [16, 1]]   \n",
       "1008_2024-11-04                         [[2, 1], [28, 0], [18, 1]]   \n",
       "1008_2024-11-05  [[2, 1], [28, 0], [18, 1], [28, 0], [6, 1], [1...   \n",
       "1008_2024-11-06  [[2, 1], [28, 0], [18, 1], [28, 0], [6, 1], [1...   \n",
       "1008_2024-11-07  [[28, 0], [6, 1], [19, 0], [30, 1], [14, 1], [...   \n",
       "...                                                            ...   \n",
       "957_2024-11-06   [[1, 0], [9, 0], [19, 0], [22, 0], [0, 0], [7,...   \n",
       "957_2024-11-07   [[22, 0], [0, 0], [7, 0], [21, 0], [15, 0], [2...   \n",
       "972_2024-11-01   [[21, 0], [17, 0], [0, 1], [12, 0], [26, 0], [...   \n",
       "972_2024-11-05   [[20, 0], [25, 0], [10, 0], [22, 0], [25, 0], ...   \n",
       "972_2024-11-06   [[22, 0], [25, 0], [5, 0], [13, 0], [27, 0], [...   \n",
       "\n",
       "                    positives  \n",
       "id                             \n",
       "1005_2024-11-06           {6}  \n",
       "1008_2024-11-04           {6}  \n",
       "1008_2024-11-05  {10, 30, 14}  \n",
       "1008_2024-11-06   {0, 18, 11}  \n",
       "1008_2024-11-07       {5, 15}  \n",
       "...                       ...  \n",
       "957_2024-11-06            {2}  \n",
       "957_2024-11-07            {2}  \n",
       "972_2024-11-01            {1}  \n",
       "972_2024-11-05        {2, 21}  \n",
       "972_2024-11-06        {5, 21}  \n",
       "\n",
       "[2074 rows x 2 columns]"
      ]
     },
     "execution_count": 1,
     "metadata": {},
     "output_type": "execute_result"
    }
   ],
   "source": [
    "import pandas as pd\n",
    "from tqdm.auto import tqdm\n",
    "tqdm.pandas()\n",
    "\n",
    "test_df: pd.DataFrame = pd.read_pickle('out/test.pkl')\n",
    "\n",
    "test_df = test_df.groupby('id').apply(lambda x: pd.Series({\n",
    "    'history': x['history'].iloc[0],\n",
    "    'positives': set(x['ID'])\n",
    "}), include_groups=False)\n",
    "test_df"
   ]
  },
  {
   "cell_type": "code",
   "execution_count": null,
   "metadata": {},
   "outputs": [
    {
     "name": "stderr",
     "output_type": "stream",
     "text": [
      "/tmp/ipykernel_23968/133253311.py:5: FutureWarning: You are using `torch.load` with `weights_only=False` (the current default value), which uses the default pickle module implicitly. It is possible to construct malicious pickle data which will execute arbitrary code during unpickling (See https://github.com/pytorch/pytorch/blob/main/SECURITY.md#untrusted-models for more details). In a future release, the default value for `weights_only` will be flipped to `True`. This limits the functions that could be executed during unpickling. Arbitrary objects will no longer be allowed to be loaded via this mode unless they are explicitly allowlisted by the user via `torch.serialization.add_safe_globals`. We recommend you start setting `weights_only=True` for any use case where you don't have full control of the loaded file. Please open an issue on GitHub for any issues related to this experimental feature.\n",
      "  model: GRU4Rec = torch.load('models/gru4rec.pth')\n"
     ]
    },
    {
     "data": {
      "application/vnd.jupyter.widget-view+json": {
       "model_id": "bfafc3a329d04e0db5d3cb8faeda2fbf",
       "version_major": 2,
       "version_minor": 0
      },
      "text/plain": [
       "  0%|          | 0/2074 [00:00<?, ?it/s]"
      ]
     },
     "metadata": {},
     "output_type": "display_data"
    },
    {
     "data": {
      "application/vnd.jupyter.widget-view+json": {
       "model_id": "1e2cc818cda941bbb006659c44cd6420",
       "version_major": 2,
       "version_minor": 0
      },
      "text/plain": [
       "  0%|          | 0/2074 [00:00<?, ?it/s]"
      ]
     },
     "metadata": {},
     "output_type": "display_data"
    },
    {
     "data": {
      "text/html": [
       "<div>\n",
       "<style scoped>\n",
       "    .dataframe tbody tr th:only-of-type {\n",
       "        vertical-align: middle;\n",
       "    }\n",
       "\n",
       "    .dataframe tbody tr th {\n",
       "        vertical-align: top;\n",
       "    }\n",
       "\n",
       "    .dataframe thead th {\n",
       "        text-align: right;\n",
       "    }\n",
       "</style>\n",
       "<table border=\"1\" class=\"dataframe\">\n",
       "  <thead>\n",
       "    <tr style=\"text-align: right;\">\n",
       "      <th></th>\n",
       "      <th>history</th>\n",
       "      <th>positives</th>\n",
       "      <th>gru4rec</th>\n",
       "      <th>random</th>\n",
       "    </tr>\n",
       "    <tr>\n",
       "      <th>id</th>\n",
       "      <th></th>\n",
       "      <th></th>\n",
       "      <th></th>\n",
       "      <th></th>\n",
       "    </tr>\n",
       "  </thead>\n",
       "  <tbody>\n",
       "    <tr>\n",
       "      <th>1005_2024-11-06</th>\n",
       "      <td>[[26, 0], [5, 1], [16, 1]]</td>\n",
       "      <td>{6}</td>\n",
       "      <td>[30, 31, 4, 25, 2, 5, 13, 0, 6, 24, 1, 26, 7, ...</td>\n",
       "      <td>[24, 12, 18, 10, 3, 8, 19, 9, 30, 16, 11, 14, ...</td>\n",
       "    </tr>\n",
       "    <tr>\n",
       "      <th>1008_2024-11-04</th>\n",
       "      <td>[[2, 1], [28, 0], [18, 1]]</td>\n",
       "      <td>{6}</td>\n",
       "      <td>[31, 30, 2, 4, 0, 25, 6, 27, 5, 7, 24, 13, 26,...</td>\n",
       "      <td>[7, 0, 21, 19, 8, 20, 13, 4, 10, 26, 18, 17, 1...</td>\n",
       "    </tr>\n",
       "    <tr>\n",
       "      <th>1008_2024-11-05</th>\n",
       "      <td>[[2, 1], [28, 0], [18, 1], [28, 0], [6, 1], [1...</td>\n",
       "      <td>{10, 30, 14}</td>\n",
       "      <td>[2, 30, 31, 4, 0, 5, 24, 12, 25, 27, 6, 7, 26,...</td>\n",
       "      <td>[24, 1, 13, 8, 4, 16, 18, 2, 15, 0, 21, 19, 7,...</td>\n",
       "    </tr>\n",
       "    <tr>\n",
       "      <th>1008_2024-11-06</th>\n",
       "      <td>[[2, 1], [28, 0], [18, 1], [28, 0], [6, 1], [1...</td>\n",
       "      <td>{0, 18, 11}</td>\n",
       "      <td>[31, 2, 4, 30, 5, 0, 24, 25, 12, 26, 6, 7, 27,...</td>\n",
       "      <td>[10, 8, 28, 9, 15, 18, 24, 26, 20, 21, 25, 11,...</td>\n",
       "    </tr>\n",
       "    <tr>\n",
       "      <th>1008_2024-11-07</th>\n",
       "      <td>[[28, 0], [6, 1], [19, 0], [30, 1], [14, 1], [...</td>\n",
       "      <td>{5, 15}</td>\n",
       "      <td>[31, 30, 4, 2, 0, 5, 25, 12, 14, 7, 24, 13, 26...</td>\n",
       "      <td>[27, 17, 3, 4, 13, 16, 20, 8, 2, 10, 22, 6, 0,...</td>\n",
       "    </tr>\n",
       "    <tr>\n",
       "      <th>...</th>\n",
       "      <td>...</td>\n",
       "      <td>...</td>\n",
       "      <td>...</td>\n",
       "      <td>...</td>\n",
       "    </tr>\n",
       "    <tr>\n",
       "      <th>957_2024-11-06</th>\n",
       "      <td>[[1, 0], [9, 0], [19, 0], [22, 0], [0, 0], [7,...</td>\n",
       "      <td>{2}</td>\n",
       "      <td>[30, 2, 31, 4, 5, 0, 24, 25, 12, 26, 6, 13, 7,...</td>\n",
       "      <td>[15, 6, 8, 27, 25, 17, 29, 22, 30, 28, 7, 23, ...</td>\n",
       "    </tr>\n",
       "    <tr>\n",
       "      <th>957_2024-11-07</th>\n",
       "      <td>[[22, 0], [0, 0], [7, 0], [21, 0], [15, 0], [2...</td>\n",
       "      <td>{2}</td>\n",
       "      <td>[30, 2, 31, 4, 0, 5, 25, 12, 6, 24, 26, 7, 27,...</td>\n",
       "      <td>[25, 30, 27, 6, 24, 23, 28, 3, 0, 16, 13, 29, ...</td>\n",
       "    </tr>\n",
       "    <tr>\n",
       "      <th>972_2024-11-01</th>\n",
       "      <td>[[21, 0], [17, 0], [0, 1], [12, 0], [26, 0], [...</td>\n",
       "      <td>{1}</td>\n",
       "      <td>[30, 2, 4, 31, 0, 12, 24, 5, 25, 6, 26, 13, 7,...</td>\n",
       "      <td>[8, 9, 14, 11, 15, 17, 29, 16, 12, 0, 10, 26, ...</td>\n",
       "    </tr>\n",
       "    <tr>\n",
       "      <th>972_2024-11-05</th>\n",
       "      <td>[[20, 0], [25, 0], [10, 0], [22, 0], [25, 0], ...</td>\n",
       "      <td>{2, 21}</td>\n",
       "      <td>[2, 30, 31, 4, 0, 12, 6, 5, 26, 24, 25, 27, 7,...</td>\n",
       "      <td>[5, 2, 24, 19, 21, 29, 4, 17, 1, 12, 8, 15, 3,...</td>\n",
       "    </tr>\n",
       "    <tr>\n",
       "      <th>972_2024-11-06</th>\n",
       "      <td>[[22, 0], [25, 0], [5, 0], [13, 0], [27, 0], [...</td>\n",
       "      <td>{5, 21}</td>\n",
       "      <td>[2, 30, 31, 4, 5, 0, 24, 12, 25, 6, 7, 26, 27,...</td>\n",
       "      <td>[15, 28, 1, 26, 24, 7, 13, 2, 16, 29, 14, 30, ...</td>\n",
       "    </tr>\n",
       "  </tbody>\n",
       "</table>\n",
       "<p>2074 rows × 4 columns</p>\n",
       "</div>"
      ],
      "text/plain": [
       "                                                           history  \\\n",
       "id                                                                   \n",
       "1005_2024-11-06                         [[26, 0], [5, 1], [16, 1]]   \n",
       "1008_2024-11-04                         [[2, 1], [28, 0], [18, 1]]   \n",
       "1008_2024-11-05  [[2, 1], [28, 0], [18, 1], [28, 0], [6, 1], [1...   \n",
       "1008_2024-11-06  [[2, 1], [28, 0], [18, 1], [28, 0], [6, 1], [1...   \n",
       "1008_2024-11-07  [[28, 0], [6, 1], [19, 0], [30, 1], [14, 1], [...   \n",
       "...                                                            ...   \n",
       "957_2024-11-06   [[1, 0], [9, 0], [19, 0], [22, 0], [0, 0], [7,...   \n",
       "957_2024-11-07   [[22, 0], [0, 0], [7, 0], [21, 0], [15, 0], [2...   \n",
       "972_2024-11-01   [[21, 0], [17, 0], [0, 1], [12, 0], [26, 0], [...   \n",
       "972_2024-11-05   [[20, 0], [25, 0], [10, 0], [22, 0], [25, 0], ...   \n",
       "972_2024-11-06   [[22, 0], [25, 0], [5, 0], [13, 0], [27, 0], [...   \n",
       "\n",
       "                    positives  \\\n",
       "id                              \n",
       "1005_2024-11-06           {6}   \n",
       "1008_2024-11-04           {6}   \n",
       "1008_2024-11-05  {10, 30, 14}   \n",
       "1008_2024-11-06   {0, 18, 11}   \n",
       "1008_2024-11-07       {5, 15}   \n",
       "...                       ...   \n",
       "957_2024-11-06            {2}   \n",
       "957_2024-11-07            {2}   \n",
       "972_2024-11-01            {1}   \n",
       "972_2024-11-05        {2, 21}   \n",
       "972_2024-11-06        {5, 21}   \n",
       "\n",
       "                                                           gru4rec  \\\n",
       "id                                                                   \n",
       "1005_2024-11-06  [30, 31, 4, 25, 2, 5, 13, 0, 6, 24, 1, 26, 7, ...   \n",
       "1008_2024-11-04  [31, 30, 2, 4, 0, 25, 6, 27, 5, 7, 24, 13, 26,...   \n",
       "1008_2024-11-05  [2, 30, 31, 4, 0, 5, 24, 12, 25, 27, 6, 7, 26,...   \n",
       "1008_2024-11-06  [31, 2, 4, 30, 5, 0, 24, 25, 12, 26, 6, 7, 27,...   \n",
       "1008_2024-11-07  [31, 30, 4, 2, 0, 5, 25, 12, 14, 7, 24, 13, 26...   \n",
       "...                                                            ...   \n",
       "957_2024-11-06   [30, 2, 31, 4, 5, 0, 24, 25, 12, 26, 6, 13, 7,...   \n",
       "957_2024-11-07   [30, 2, 31, 4, 0, 5, 25, 12, 6, 24, 26, 7, 27,...   \n",
       "972_2024-11-01   [30, 2, 4, 31, 0, 12, 24, 5, 25, 6, 26, 13, 7,...   \n",
       "972_2024-11-05   [2, 30, 31, 4, 0, 12, 6, 5, 26, 24, 25, 27, 7,...   \n",
       "972_2024-11-06   [2, 30, 31, 4, 5, 0, 24, 12, 25, 6, 7, 26, 27,...   \n",
       "\n",
       "                                                            random  \n",
       "id                                                                  \n",
       "1005_2024-11-06  [24, 12, 18, 10, 3, 8, 19, 9, 30, 16, 11, 14, ...  \n",
       "1008_2024-11-04  [7, 0, 21, 19, 8, 20, 13, 4, 10, 26, 18, 17, 1...  \n",
       "1008_2024-11-05  [24, 1, 13, 8, 4, 16, 18, 2, 15, 0, 21, 19, 7,...  \n",
       "1008_2024-11-06  [10, 8, 28, 9, 15, 18, 24, 26, 20, 21, 25, 11,...  \n",
       "1008_2024-11-07  [27, 17, 3, 4, 13, 16, 20, 8, 2, 10, 22, 6, 0,...  \n",
       "...                                                            ...  \n",
       "957_2024-11-06   [15, 6, 8, 27, 25, 17, 29, 22, 30, 28, 7, 23, ...  \n",
       "957_2024-11-07   [25, 30, 27, 6, 24, 23, 28, 3, 0, 16, 13, 29, ...  \n",
       "972_2024-11-01   [8, 9, 14, 11, 15, 17, 29, 16, 12, 0, 10, 26, ...  \n",
       "972_2024-11-05   [5, 2, 24, 19, 21, 29, 4, 17, 1, 12, 8, 15, 3,...  \n",
       "972_2024-11-06   [15, 28, 1, 26, 24, 7, 13, 2, 16, 29, 14, 30, ...  \n",
       "\n",
       "[2074 rows x 4 columns]"
      ]
     },
     "execution_count": 2,
     "metadata": {},
     "output_type": "execute_result"
    }
   ],
   "source": [
    "import torch\n",
    "import numpy as np\n",
    "from src.gru4rec import GRU4Rec, DEVICE\n",
    "\n",
    "model: GRU4Rec = torch.load('models/gru4rec.pth')\n",
    "model.eval()\n",
    "missions = pd.read_csv('data/missions.csv')\n",
    "\n",
    "def rank(x):\n",
    "    history = torch.from_numpy(x['history']).view(1, -1, 2).to(DEVICE)\n",
    "    with torch.no_grad():\n",
    "        scores = model(history).view(-1).detach().cpu().numpy()\n",
    "    return np.argsort(scores)[::-1]\n",
    "\n",
    "def random_rank(_):\n",
    "    return np.random.permutation(len(missions))\n",
    "\n",
    "test_df['gru4rec'] = test_df.progress_apply(rank, axis=1)\n",
    "test_df['random'] = test_df.progress_apply(random_rank, axis=1)\n",
    "test_df"
   ]
  },
  {
   "cell_type": "code",
   "execution_count": 3,
   "metadata": {},
   "outputs": [
    {
     "data": {
      "application/vnd.jupyter.widget-view+json": {
       "model_id": "8cfd02957e684e86b6d6db8dc3ab32a3",
       "version_major": 2,
       "version_minor": 0
      },
      "text/plain": [
       "  0%|          | 0/2074 [00:00<?, ?it/s]"
      ]
     },
     "metadata": {},
     "output_type": "display_data"
    },
    {
     "data": {
      "application/vnd.jupyter.widget-view+json": {
       "model_id": "8fb98c831bed4c5fa6509454d33fbd08",
       "version_major": 2,
       "version_minor": 0
      },
      "text/plain": [
       "  0%|          | 0/2074 [00:00<?, ?it/s]"
      ]
     },
     "metadata": {},
     "output_type": "display_data"
    },
    {
     "data": {
      "application/vnd.jupyter.widget-view+json": {
       "model_id": "20ee3fa19cf14c83b4d02dcfe13c545f",
       "version_major": 2,
       "version_minor": 0
      },
      "text/plain": [
       "  0%|          | 0/2074 [00:00<?, ?it/s]"
      ]
     },
     "metadata": {},
     "output_type": "display_data"
    },
    {
     "data": {
      "application/vnd.jupyter.widget-view+json": {
       "model_id": "09a03a6d3608481cbf127d3f41f0da6e",
       "version_major": 2,
       "version_minor": 0
      },
      "text/plain": [
       "  0%|          | 0/2074 [00:00<?, ?it/s]"
      ]
     },
     "metadata": {},
     "output_type": "display_data"
    },
    {
     "data": {
      "application/vnd.jupyter.widget-view+json": {
       "model_id": "d02a324663014bbea2f67535b5d15fd6",
       "version_major": 2,
       "version_minor": 0
      },
      "text/plain": [
       "  0%|          | 0/2074 [00:00<?, ?it/s]"
      ]
     },
     "metadata": {},
     "output_type": "display_data"
    },
    {
     "data": {
      "application/vnd.jupyter.widget-view+json": {
       "model_id": "b389bb5b66ac4401804c1cc89fb0607e",
       "version_major": 2,
       "version_minor": 0
      },
      "text/plain": [
       "  0%|          | 0/2074 [00:00<?, ?it/s]"
      ]
     },
     "metadata": {},
     "output_type": "display_data"
    },
    {
     "data": {
      "application/vnd.jupyter.widget-view+json": {
       "model_id": "67c6122c5e474a058eeecb761b567f5e",
       "version_major": 2,
       "version_minor": 0
      },
      "text/plain": [
       "  0%|          | 0/2074 [00:00<?, ?it/s]"
      ]
     },
     "metadata": {},
     "output_type": "display_data"
    },
    {
     "data": {
      "application/vnd.jupyter.widget-view+json": {
       "model_id": "844580e8c9784d28860c8d0c5af3dd87",
       "version_major": 2,
       "version_minor": 0
      },
      "text/plain": [
       "  0%|          | 0/2074 [00:00<?, ?it/s]"
      ]
     },
     "metadata": {},
     "output_type": "display_data"
    },
    {
     "data": {
      "text/html": [
       "<div>\n",
       "<style scoped>\n",
       "    .dataframe tbody tr th:only-of-type {\n",
       "        vertical-align: middle;\n",
       "    }\n",
       "\n",
       "    .dataframe tbody tr th {\n",
       "        vertical-align: top;\n",
       "    }\n",
       "\n",
       "    .dataframe thead th {\n",
       "        text-align: right;\n",
       "    }\n",
       "</style>\n",
       "<table border=\"1\" class=\"dataframe\">\n",
       "  <thead>\n",
       "    <tr style=\"text-align: right;\">\n",
       "      <th></th>\n",
       "      <th>gru4rec</th>\n",
       "      <th>random</th>\n",
       "    </tr>\n",
       "  </thead>\n",
       "  <tbody>\n",
       "    <tr>\n",
       "      <th>recall@5</th>\n",
       "      <td>0.300121</td>\n",
       "      <td>0.165935</td>\n",
       "    </tr>\n",
       "    <tr>\n",
       "      <th>recall@10</th>\n",
       "      <td>0.545355</td>\n",
       "      <td>0.314899</td>\n",
       "    </tr>\n",
       "    <tr>\n",
       "      <th>hit_rate@5</th>\n",
       "      <td>0.489392</td>\n",
       "      <td>0.314368</td>\n",
       "    </tr>\n",
       "    <tr>\n",
       "      <th>hit_rate@10</th>\n",
       "      <td>0.830280</td>\n",
       "      <td>0.528930</td>\n",
       "    </tr>\n",
       "  </tbody>\n",
       "</table>\n",
       "</div>"
      ],
      "text/plain": [
       "              gru4rec    random\n",
       "recall@5     0.300121  0.165935\n",
       "recall@10    0.545355  0.314899\n",
       "hit_rate@5   0.489392  0.314368\n",
       "hit_rate@10  0.830280  0.528930"
      ]
     },
     "execution_count": 3,
     "metadata": {},
     "output_type": "execute_result"
    }
   ],
   "source": [
    "def recall(x, model, k=5):\n",
    "    top_k = set(x[model][:k])\n",
    "    return len(x['positives'] & top_k) / len(x['positives'])\n",
    "\n",
    "def hit_rate(x, model, k=5):\n",
    "    top_k = set(x[model][:k])\n",
    "    return len(x['positives'] & top_k) > 0\n",
    "\n",
    "pd.DataFrame({\n",
    "    'gru4rec': {\n",
    "        'recall@5': test_df.progress_apply(lambda x: recall(x, 'gru4rec'), axis=1).mean(),\n",
    "        'recall@10': test_df.progress_apply(lambda x: recall(x, 'gru4rec', k=10), axis=1).mean(),\n",
    "        'hit_rate@5': test_df.progress_apply(lambda x: hit_rate(x, 'gru4rec'), axis=1).mean(),\n",
    "        'hit_rate@10': test_df.progress_apply(lambda x: hit_rate(x, 'gru4rec', k=10), axis=1).mean()\n",
    "    },\n",
    "    'random': {\n",
    "        'recall@5': test_df.progress_apply(lambda x: recall(x, 'random'), axis=1).mean(),\n",
    "        'recall@10': test_df.progress_apply(lambda x: recall(x, 'random', k=10), axis=1).mean(),\n",
    "        'hit_rate@5': test_df.progress_apply(lambda x: hit_rate(x, 'random'), axis=1).mean(),\n",
    "        'hit_rate@10': test_df.progress_apply(lambda x: hit_rate(x, 'random', k=10), axis=1).mean()\n",
    "    }\n",
    "})"
   ]
  }
 ],
 "metadata": {
  "kernelspec": {
   "display_name": "Python 3",
   "language": "python",
   "name": "python3"
  },
  "language_info": {
   "codemirror_mode": {
    "name": "ipython",
    "version": 3
   },
   "file_extension": ".py",
   "mimetype": "text/x-python",
   "name": "python",
   "nbconvert_exporter": "python",
   "pygments_lexer": "ipython3",
   "version": "3.12.7"
  }
 },
 "nbformat": 4,
 "nbformat_minor": 2
}
