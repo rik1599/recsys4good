{
 "cells": [
  {
   "cell_type": "code",
   "execution_count": null,
   "metadata": {},
   "outputs": [],
   "source": [
    "import pandas as pd\n",
    "\n",
    "df = pd.concat((\n",
    "    pd.read_csv('./data/October_missions_full.csv'),\n",
    "    pd.read_csv('./data/November_1stW_missions_full.csv')\n",
    "), ignore_index=True)\n",
    "\n",
    "df['mission'] = df['type'] + '_' + df['target'].astype(str)\n",
    "\n",
    "df = df[['user', 'mission', 'createdAtT', 'type', 'target', 'performance']]\n",
    "df['createdAtT'] = pd.to_datetime(df['createdAtT'], unit='ms').dt.date\n",
    "df = df.groupby('user').filter(lambda x: len(x['createdAtT'].unique()) > 2)\n",
    "\n",
    "df['user'] = df['user'].astype('category').cat.codes\n",
    "df['mission'] = df['mission'].astype('category')\n",
    "df['missionID'] = df['mission'].cat.codes\n",
    "df['type'] = df['type'].astype('category')\n",
    "\n",
    "def reward(x):\n",
    "    if x <= 1:\n",
    "        return x\n",
    "    return max(0, 2 - x**2)\n",
    "\n",
    "df['reward'] = df['performance'].apply(reward)\n",
    "df.rename(columns={'createdAtT': 'date'}, inplace=True)\n",
    "\n",
    "df.sort_values(by=['date', 'user'], inplace=True, ignore_index=True)\n",
    "display(df)"
   ]
  },
  {
   "cell_type": "code",
   "execution_count": null,
   "metadata": {},
   "outputs": [],
   "source": [
    "import torch\n",
    "import numpy as np\n",
    "from src import models as m\n",
    "from sklearn.metrics import mean_squared_error\n",
    "\n",
    "df.drop_duplicates(subset=['user', 'mission'], keep='last', inplace=True, ignore_index=True)\n",
    "def fold(d):\n",
    "    test_df: pd.DataFrame = df[df['date'] == d]\n",
    "    train_df = df[df['date'] < d]\n",
    "\n",
    "    # Remove users from test set that are not in the training set\n",
    "    test_df = test_df[test_df['user'].isin(train_df['user'])]\n",
    "\n",
    "    n_users = train_df['user'].max() + 1\n",
    "    n_missions = train_df['missionID'].max() + 1\n",
    "\n",
    "    mf = m.MF(n_users, n_missions, embedding_dim=8).fit(train_df, lr=0.001, epochs=10, weight_decay=1e-4)\n",
    "    autorec = m.AutoRec(d=n_missions, k=16, dropout=0.1).fit(train_df, lr=0.0001, epochs=100, weight_decay=1e-4)\n",
    "    mlp = m.MLP(n_users, n_missions, embedding_dim=16, hidden_dim=32, dropout=0.1).fit(train_df, lr=0.001, epochs=10, weight_decay=1e-4)\n",
    "\n",
    "    y_hat_autorec = np.clip(autorec.predict(\n",
    "        torch.tensor(test_df['user'].values, dtype=torch.long),\n",
    "        torch.tensor(test_df['missionID'].values, dtype=torch.long)\n",
    "    ).cpu().detach().numpy(), a_min=0, a_max=None)\n",
    "\n",
    "    y_hat_mf = np.clip(mf(\n",
    "        torch.tensor(test_df['user'].values, dtype=torch.long),\n",
    "        torch.tensor(test_df['missionID'].values, dtype=torch.long)\n",
    "    ).cpu().detach().numpy(), a_min=0, a_max=None)\n",
    "\n",
    "    y_hat_mlp = np.clip(mlp(\n",
    "        torch.tensor(test_df['user'].values, dtype=torch.long),\n",
    "        torch.tensor(test_df['missionID'].values, dtype=torch.long)\n",
    "    ).cpu().detach().numpy(), a_min=0, a_max=None)\n",
    "\n",
    "    return pd.DataFrame(\n",
    "        index=['AutoRec', 'MF', 'MLP'],\n",
    "        columns=[str(d)],\n",
    "        data=[\n",
    "            mean_squared_error(test_df['performance'], y_hat_autorec),\n",
    "            mean_squared_error(test_df['performance'], y_hat_mf),\n",
    "            mean_squared_error(test_df['performance'], y_hat_mlp)\n",
    "        ],\n",
    "    )"
   ]
  },
  {
   "cell_type": "code",
   "execution_count": null,
   "metadata": {},
   "outputs": [],
   "source": [
    "from tqdm.auto import tqdm\n",
    "\n",
    "torch.manual_seed(0)\n",
    "np.random.seed(0)\n",
    "\n",
    "pd.concat((\n",
    "    fold(d.date()) for d in tqdm(pd.date_range('2024-11-01', '2024-11-07'))\n",
    "), axis=1)"
   ]
  }
 ],
 "metadata": {
  "kernelspec": {
   "display_name": "Python 3",
   "language": "python",
   "name": "python3"
  },
  "language_info": {
   "codemirror_mode": {
    "name": "ipython",
    "version": 3
   },
   "file_extension": ".py",
   "mimetype": "text/x-python",
   "name": "python",
   "nbconvert_exporter": "python",
   "pygments_lexer": "ipython3",
   "version": "3.12.7"
  }
 },
 "nbformat": 4,
 "nbformat_minor": 2
}
