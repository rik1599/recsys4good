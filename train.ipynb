{
 "cells": [
  {
   "cell_type": "code",
   "execution_count": 1,
   "metadata": {},
   "outputs": [
    {
     "data": {
      "text/html": [
       "<div>\n",
       "<style scoped>\n",
       "    .dataframe tbody tr th:only-of-type {\n",
       "        vertical-align: middle;\n",
       "    }\n",
       "\n",
       "    .dataframe tbody tr th {\n",
       "        vertical-align: top;\n",
       "    }\n",
       "\n",
       "    .dataframe thead th {\n",
       "        text-align: right;\n",
       "    }\n",
       "</style>\n",
       "<table border=\"1\" class=\"dataframe\">\n",
       "  <thead>\n",
       "    <tr style=\"text-align: right;\">\n",
       "      <th></th>\n",
       "      <th>user</th>\n",
       "      <th>mission</th>\n",
       "      <th>createdAtT</th>\n",
       "      <th>type</th>\n",
       "      <th>target</th>\n",
       "      <th>performance</th>\n",
       "      <th>missionID</th>\n",
       "    </tr>\n",
       "  </thead>\n",
       "  <tbody>\n",
       "    <tr>\n",
       "      <th>0</th>\n",
       "      <td>0</td>\n",
       "      <td>episode_2</td>\n",
       "      <td>2024-10-01</td>\n",
       "      <td>episode</td>\n",
       "      <td>2</td>\n",
       "      <td>0</td>\n",
       "      <td>13</td>\n",
       "    </tr>\n",
       "    <tr>\n",
       "      <th>1</th>\n",
       "      <td>0</td>\n",
       "      <td>action_2</td>\n",
       "      <td>2024-10-01</td>\n",
       "      <td>action</td>\n",
       "      <td>2</td>\n",
       "      <td>0</td>\n",
       "      <td>1</td>\n",
       "    </tr>\n",
       "    <tr>\n",
       "      <th>2</th>\n",
       "      <td>0</td>\n",
       "      <td>episode_1</td>\n",
       "      <td>2024-10-01</td>\n",
       "      <td>episode</td>\n",
       "      <td>1</td>\n",
       "      <td>1</td>\n",
       "      <td>12</td>\n",
       "    </tr>\n",
       "    <tr>\n",
       "      <th>3</th>\n",
       "      <td>0</td>\n",
       "      <td>quiz_1</td>\n",
       "      <td>2024-10-01</td>\n",
       "      <td>quiz</td>\n",
       "      <td>1</td>\n",
       "      <td>1</td>\n",
       "      <td>24</td>\n",
       "    </tr>\n",
       "    <tr>\n",
       "      <th>4</th>\n",
       "      <td>0</td>\n",
       "      <td>quiz_4</td>\n",
       "      <td>2024-10-01</td>\n",
       "      <td>quiz</td>\n",
       "      <td>4</td>\n",
       "      <td>1</td>\n",
       "      <td>27</td>\n",
       "    </tr>\n",
       "    <tr>\n",
       "      <th>...</th>\n",
       "      <td>...</td>\n",
       "      <td>...</td>\n",
       "      <td>...</td>\n",
       "      <td>...</td>\n",
       "      <td>...</td>\n",
       "      <td>...</td>\n",
       "      <td>...</td>\n",
       "    </tr>\n",
       "    <tr>\n",
       "      <th>44117</th>\n",
       "      <td>2946</td>\n",
       "      <td>quiz_4</td>\n",
       "      <td>2024-11-07</td>\n",
       "      <td>quiz</td>\n",
       "      <td>4</td>\n",
       "      <td>1</td>\n",
       "      <td>27</td>\n",
       "    </tr>\n",
       "    <tr>\n",
       "      <th>44118</th>\n",
       "      <td>2960</td>\n",
       "      <td>activity_7</td>\n",
       "      <td>2024-11-07</td>\n",
       "      <td>activity</td>\n",
       "      <td>7</td>\n",
       "      <td>0</td>\n",
       "      <td>9</td>\n",
       "    </tr>\n",
       "    <tr>\n",
       "      <th>44119</th>\n",
       "      <td>2968</td>\n",
       "      <td>mobility_3</td>\n",
       "      <td>2024-11-07</td>\n",
       "      <td>mobility</td>\n",
       "      <td>3</td>\n",
       "      <td>0</td>\n",
       "      <td>22</td>\n",
       "    </tr>\n",
       "    <tr>\n",
       "      <th>44120</th>\n",
       "      <td>2968</td>\n",
       "      <td>quiz_3</td>\n",
       "      <td>2024-11-07</td>\n",
       "      <td>quiz</td>\n",
       "      <td>3</td>\n",
       "      <td>0</td>\n",
       "      <td>26</td>\n",
       "    </tr>\n",
       "    <tr>\n",
       "      <th>44121</th>\n",
       "      <td>2968</td>\n",
       "      <td>activity_1</td>\n",
       "      <td>2024-11-07</td>\n",
       "      <td>activity</td>\n",
       "      <td>1</td>\n",
       "      <td>1</td>\n",
       "      <td>2</td>\n",
       "    </tr>\n",
       "  </tbody>\n",
       "</table>\n",
       "<p>44122 rows × 7 columns</p>\n",
       "</div>"
      ],
      "text/plain": [
       "       user     mission  createdAtT      type  target  performance  missionID\n",
       "0         0   episode_2  2024-10-01   episode       2            0         13\n",
       "1         0    action_2  2024-10-01    action       2            0          1\n",
       "2         0   episode_1  2024-10-01   episode       1            1         12\n",
       "3         0      quiz_1  2024-10-01      quiz       1            1         24\n",
       "4         0      quiz_4  2024-10-01      quiz       4            1         27\n",
       "...     ...         ...         ...       ...     ...          ...        ...\n",
       "44117  2946      quiz_4  2024-11-07      quiz       4            1         27\n",
       "44118  2960  activity_7  2024-11-07  activity       7            0          9\n",
       "44119  2968  mobility_3  2024-11-07  mobility       3            0         22\n",
       "44120  2968      quiz_3  2024-11-07      quiz       3            0         26\n",
       "44121  2968  activity_1  2024-11-07  activity       1            1          2\n",
       "\n",
       "[44122 rows x 7 columns]"
      ]
     },
     "execution_count": 1,
     "metadata": {},
     "output_type": "execute_result"
    }
   ],
   "source": [
    "import pandas as pd\n",
    "\n",
    "df = pd.concat((\n",
    "    pd.read_csv('./data/October_missions_full.csv'),\n",
    "    pd.read_csv('./data/November_1stW_missions_full.csv'),\n",
    "), ignore_index=True)\n",
    "\n",
    "df['mission'] = df['type'] + '_' + df['target'].astype(str)\n",
    "\n",
    "df = df[['user', 'mission', 'createdAtT', 'type', 'target', 'performance']]\n",
    "df['createdAtT'] = pd.to_datetime(df['createdAtT'], unit='ms').dt.date\n",
    "df = df.groupby('user').filter(lambda x: len(x['createdAtT'].unique()) > 1)\n",
    "\n",
    "df.drop_duplicates(subset=['user', 'mission'], keep='last', inplace=True)\n",
    "df['user'] = df['user'].astype('category').cat.codes\n",
    "df['mission'] = df['mission'].astype('category')\n",
    "df['missionID'] = df['mission'].cat.codes\n",
    "df['type'] = df['type'].astype('category')\n",
    "df['performance'] = df['performance'].apply(lambda x: 0.7 <= x <= 1.05).astype(int)\n",
    "\n",
    "df.sort_values(by=['createdAtT', 'user'], inplace=True, ignore_index=True)\n",
    "df"
   ]
  },
  {
   "cell_type": "code",
   "execution_count": 2,
   "metadata": {},
   "outputs": [
    {
     "data": {
      "text/plain": [
       "((25857, 7), (4618, 7), (13647, 7))"
      ]
     },
     "execution_count": 2,
     "metadata": {},
     "output_type": "execute_result"
    }
   ],
   "source": [
    "train_df = df[df['createdAtT'] < pd.Timestamp(2024, 11, 1).date()]\n",
    "validation_df = train_df.groupby('user').sample(frac=0.15, random_state=42)\n",
    "train_df = train_df.drop(validation_df.index)\n",
    "\n",
    "test_df = df[df['createdAtT'] >= pd.Timestamp(2024, 11, 1).date()]\n",
    "\n",
    "train_df.shape, validation_df.shape, test_df.shape"
   ]
  },
  {
   "cell_type": "code",
   "execution_count": 3,
   "metadata": {},
   "outputs": [
    {
     "data": {
      "application/vnd.jupyter.widget-view+json": {
       "model_id": "5fa6226deb934d97a31b1bfda840986b",
       "version_major": 2,
       "version_minor": 0
      },
      "text/plain": [
       "  0%|          | 0/20 [00:00<?, ?it/s]"
      ]
     },
     "metadata": {},
     "output_type": "display_data"
    },
    {
     "data": {
      "application/vnd.jupyter.widget-view+json": {
       "model_id": "354f6ffd8a994d54bfcf4aae203e1db0",
       "version_major": 2,
       "version_minor": 0
      },
      "text/plain": [
       "  0%|          | 0/809 [00:00<?, ?it/s]"
      ]
     },
     "metadata": {},
     "output_type": "display_data"
    },
    {
     "data": {
      "application/vnd.jupyter.widget-view+json": {
       "model_id": "c5df627665d14605914b4635b75746cd",
       "version_major": 2,
       "version_minor": 0
      },
      "text/plain": [
       "  0%|          | 0/809 [00:00<?, ?it/s]"
      ]
     },
     "metadata": {},
     "output_type": "display_data"
    },
    {
     "data": {
      "application/vnd.jupyter.widget-view+json": {
       "model_id": "9c1585e7c8c24c189d028d6ee2076fcb",
       "version_major": 2,
       "version_minor": 0
      },
      "text/plain": [
       "  0%|          | 0/809 [00:00<?, ?it/s]"
      ]
     },
     "metadata": {},
     "output_type": "display_data"
    },
    {
     "data": {
      "application/vnd.jupyter.widget-view+json": {
       "model_id": "ab0f72a4fe9b486c9b77470e0f190a24",
       "version_major": 2,
       "version_minor": 0
      },
      "text/plain": [
       "  0%|          | 0/809 [00:00<?, ?it/s]"
      ]
     },
     "metadata": {},
     "output_type": "display_data"
    },
    {
     "data": {
      "application/vnd.jupyter.widget-view+json": {
       "model_id": "4ac8abd3e5d14683b66547eea2694d85",
       "version_major": 2,
       "version_minor": 0
      },
      "text/plain": [
       "  0%|          | 0/809 [00:00<?, ?it/s]"
      ]
     },
     "metadata": {},
     "output_type": "display_data"
    },
    {
     "data": {
      "application/vnd.jupyter.widget-view+json": {
       "model_id": "489300025cca4d948c229b6e6e9154a1",
       "version_major": 2,
       "version_minor": 0
      },
      "text/plain": [
       "  0%|          | 0/809 [00:00<?, ?it/s]"
      ]
     },
     "metadata": {},
     "output_type": "display_data"
    },
    {
     "data": {
      "application/vnd.jupyter.widget-view+json": {
       "model_id": "b301681093c24e0f825604fdedeeb065",
       "version_major": 2,
       "version_minor": 0
      },
      "text/plain": [
       "  0%|          | 0/809 [00:00<?, ?it/s]"
      ]
     },
     "metadata": {},
     "output_type": "display_data"
    },
    {
     "data": {
      "application/vnd.jupyter.widget-view+json": {
       "model_id": "d84ccd7f43c248fab55c973596a047c5",
       "version_major": 2,
       "version_minor": 0
      },
      "text/plain": [
       "  0%|          | 0/809 [00:00<?, ?it/s]"
      ]
     },
     "metadata": {},
     "output_type": "display_data"
    },
    {
     "data": {
      "application/vnd.jupyter.widget-view+json": {
       "model_id": "e7e27e84f4c4432db47ec8b78480aa8c",
       "version_major": 2,
       "version_minor": 0
      },
      "text/plain": [
       "  0%|          | 0/809 [00:00<?, ?it/s]"
      ]
     },
     "metadata": {},
     "output_type": "display_data"
    },
    {
     "data": {
      "application/vnd.jupyter.widget-view+json": {
       "model_id": "c533db88d27a41f9a97cf52875caa264",
       "version_major": 2,
       "version_minor": 0
      },
      "text/plain": [
       "  0%|          | 0/809 [00:00<?, ?it/s]"
      ]
     },
     "metadata": {},
     "output_type": "display_data"
    },
    {
     "data": {
      "application/vnd.jupyter.widget-view+json": {
       "model_id": "997a0a0b3d6148438e6749b0ce14fc7f",
       "version_major": 2,
       "version_minor": 0
      },
      "text/plain": [
       "  0%|          | 0/809 [00:00<?, ?it/s]"
      ]
     },
     "metadata": {},
     "output_type": "display_data"
    },
    {
     "data": {
      "application/vnd.jupyter.widget-view+json": {
       "model_id": "285e42c6317c46c1aa27abaabb929f93",
       "version_major": 2,
       "version_minor": 0
      },
      "text/plain": [
       "  0%|          | 0/809 [00:00<?, ?it/s]"
      ]
     },
     "metadata": {},
     "output_type": "display_data"
    },
    {
     "data": {
      "application/vnd.jupyter.widget-view+json": {
       "model_id": "5a0d0f573b204df68ec1db9220a51754",
       "version_major": 2,
       "version_minor": 0
      },
      "text/plain": [
       "  0%|          | 0/809 [00:00<?, ?it/s]"
      ]
     },
     "metadata": {},
     "output_type": "display_data"
    },
    {
     "data": {
      "application/vnd.jupyter.widget-view+json": {
       "model_id": "f858005048ad4531bc18a7f3975b2258",
       "version_major": 2,
       "version_minor": 0
      },
      "text/plain": [
       "  0%|          | 0/809 [00:00<?, ?it/s]"
      ]
     },
     "metadata": {},
     "output_type": "display_data"
    },
    {
     "data": {
      "application/vnd.jupyter.widget-view+json": {
       "model_id": "23631177d6ef41638005fedab68fd415",
       "version_major": 2,
       "version_minor": 0
      },
      "text/plain": [
       "  0%|          | 0/809 [00:00<?, ?it/s]"
      ]
     },
     "metadata": {},
     "output_type": "display_data"
    },
    {
     "data": {
      "application/vnd.jupyter.widget-view+json": {
       "model_id": "0d8c5bf15e4147da9fc6e7dcf648c60d",
       "version_major": 2,
       "version_minor": 0
      },
      "text/plain": [
       "  0%|          | 0/809 [00:00<?, ?it/s]"
      ]
     },
     "metadata": {},
     "output_type": "display_data"
    },
    {
     "data": {
      "application/vnd.jupyter.widget-view+json": {
       "model_id": "5e21ff1abbe247b1be43c71d75a2c933",
       "version_major": 2,
       "version_minor": 0
      },
      "text/plain": [
       "  0%|          | 0/809 [00:00<?, ?it/s]"
      ]
     },
     "metadata": {},
     "output_type": "display_data"
    },
    {
     "data": {
      "application/vnd.jupyter.widget-view+json": {
       "model_id": "b12dcb5201ad422c8108964fd6bc51bb",
       "version_major": 2,
       "version_minor": 0
      },
      "text/plain": [
       "  0%|          | 0/809 [00:00<?, ?it/s]"
      ]
     },
     "metadata": {},
     "output_type": "display_data"
    },
    {
     "data": {
      "application/vnd.jupyter.widget-view+json": {
       "model_id": "65bb4949b8f2478b9480ff393630ac2f",
       "version_major": 2,
       "version_minor": 0
      },
      "text/plain": [
       "  0%|          | 0/809 [00:00<?, ?it/s]"
      ]
     },
     "metadata": {},
     "output_type": "display_data"
    },
    {
     "data": {
      "application/vnd.jupyter.widget-view+json": {
       "model_id": "bc8236067ab24b798c589c5c906c59eb",
       "version_major": 2,
       "version_minor": 0
      },
      "text/plain": [
       "  0%|          | 0/809 [00:00<?, ?it/s]"
      ]
     },
     "metadata": {},
     "output_type": "display_data"
    },
    {
     "data": {
      "text/plain": [
       "MissionMatrixFactorization(\n",
       "  (user_embedding): Embedding(2969, 8)\n",
       "  (mission_embedding): Embedding(31, 8)\n",
       "  (user_bias): Embedding(2969, 1)\n",
       "  (mission_bias): Embedding(31, 1)\n",
       ")"
      ]
     },
     "execution_count": 3,
     "metadata": {},
     "output_type": "execute_result"
    }
   ],
   "source": [
    "from src.mf import MissionDataset, MissionMatrixFactorization, DEVICE, fit\n",
    "\n",
    "train_dataset = MissionDataset(missions=train_df['missionID'].values, users=train_df['user'].values, ratings=train_df['performance'].values)\n",
    "validation_dataset = MissionDataset(missions=validation_df['missionID'].values, users=validation_df['user'].values, ratings=validation_df['performance'].values)\n",
    "\n",
    "\n",
    "users = df['user'].nunique()\n",
    "missions = df['missionID'].nunique()\n",
    "model = MissionMatrixFactorization(users, missions, embedding_dim=8).to(DEVICE)\n",
    "fit(model, train_dataset, validation_set=validation_dataset, weight_decay=1e-4, lr=1e-3, epochs=20)"
   ]
  },
  {
   "cell_type": "code",
   "execution_count": 4,
   "metadata": {},
   "outputs": [
    {
     "name": "stdout",
     "output_type": "stream",
     "text": [
      "0.8460917404259922\n",
      "0.6955408250576586\n"
     ]
    }
   ],
   "source": [
    "import torch\n",
    "\n",
    "model.eval()\n",
    "preds = torch.sigmoid(model(\n",
    "    torch.from_numpy(test_df['user'].values).to(DEVICE).long(),\n",
    "    torch.from_numpy(test_df['missionID'].values).to(DEVICE).long(),\n",
    ").flatten()).cpu().detach().numpy()\n",
    "\n",
    "from sklearn.metrics import roc_auc_score\n",
    "from sklearn.metrics import precision_recall_curve, auc\n",
    "\n",
    "print(roc_auc_score(test_df['performance'], preds))\n",
    "precision, recall, _ = precision_recall_curve(test_df['performance'], preds)\n",
    "print(auc(recall, precision))\n"
   ]
  }
 ],
 "metadata": {
  "kernelspec": {
   "display_name": "Python 3",
   "language": "python",
   "name": "python3"
  },
  "language_info": {
   "codemirror_mode": {
    "name": "ipython",
    "version": 3
   },
   "file_extension": ".py",
   "mimetype": "text/x-python",
   "name": "python",
   "nbconvert_exporter": "python",
   "pygments_lexer": "ipython3",
   "version": "3.12.7"
  }
 },
 "nbformat": 4,
 "nbformat_minor": 2
}
