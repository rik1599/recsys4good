{
 "cells": [
  {
   "cell_type": "code",
   "execution_count": 1,
   "metadata": {},
   "outputs": [
    {
     "data": {
      "text/html": [
       "<div>\n",
       "<style scoped>\n",
       "    .dataframe tbody tr th:only-of-type {\n",
       "        vertical-align: middle;\n",
       "    }\n",
       "\n",
       "    .dataframe tbody tr th {\n",
       "        vertical-align: top;\n",
       "    }\n",
       "\n",
       "    .dataframe thead th {\n",
       "        text-align: right;\n",
       "    }\n",
       "</style>\n",
       "<table border=\"1\" class=\"dataframe\">\n",
       "  <thead>\n",
       "    <tr style=\"text-align: right;\">\n",
       "      <th></th>\n",
       "      <th>user</th>\n",
       "      <th>mission</th>\n",
       "      <th>date</th>\n",
       "      <th>type</th>\n",
       "      <th>target</th>\n",
       "      <th>performance</th>\n",
       "      <th>missionID</th>\n",
       "      <th>reward</th>\n",
       "    </tr>\n",
       "  </thead>\n",
       "  <tbody>\n",
       "    <tr>\n",
       "      <th>0</th>\n",
       "      <td>0</td>\n",
       "      <td>action_1</td>\n",
       "      <td>2024-10-01</td>\n",
       "      <td>action</td>\n",
       "      <td>1</td>\n",
       "      <td>1.000000</td>\n",
       "      <td>0</td>\n",
       "      <td>1.000000</td>\n",
       "    </tr>\n",
       "    <tr>\n",
       "      <th>1</th>\n",
       "      <td>0</td>\n",
       "      <td>quiz_5</td>\n",
       "      <td>2024-10-01</td>\n",
       "      <td>quiz</td>\n",
       "      <td>5</td>\n",
       "      <td>1.000000</td>\n",
       "      <td>28</td>\n",
       "      <td>1.000000</td>\n",
       "    </tr>\n",
       "    <tr>\n",
       "      <th>2</th>\n",
       "      <td>0</td>\n",
       "      <td>exp_100</td>\n",
       "      <td>2024-10-01</td>\n",
       "      <td>exp</td>\n",
       "      <td>100</td>\n",
       "      <td>1.200000</td>\n",
       "      <td>18</td>\n",
       "      <td>0.560000</td>\n",
       "    </tr>\n",
       "    <tr>\n",
       "      <th>3</th>\n",
       "      <td>2</td>\n",
       "      <td>episode_1</td>\n",
       "      <td>2024-10-01</td>\n",
       "      <td>episode</td>\n",
       "      <td>1</td>\n",
       "      <td>1.000000</td>\n",
       "      <td>12</td>\n",
       "      <td>1.000000</td>\n",
       "    </tr>\n",
       "    <tr>\n",
       "      <th>4</th>\n",
       "      <td>2</td>\n",
       "      <td>quiz_1</td>\n",
       "      <td>2024-10-01</td>\n",
       "      <td>quiz</td>\n",
       "      <td>1</td>\n",
       "      <td>1.000000</td>\n",
       "      <td>24</td>\n",
       "      <td>1.000000</td>\n",
       "    </tr>\n",
       "    <tr>\n",
       "      <th>...</th>\n",
       "      <td>...</td>\n",
       "      <td>...</td>\n",
       "      <td>...</td>\n",
       "      <td>...</td>\n",
       "      <td>...</td>\n",
       "      <td>...</td>\n",
       "      <td>...</td>\n",
       "      <td>...</td>\n",
       "    </tr>\n",
       "    <tr>\n",
       "      <th>87477</th>\n",
       "      <td>2043</td>\n",
       "      <td>activity_7</td>\n",
       "      <td>2024-11-07</td>\n",
       "      <td>activity</td>\n",
       "      <td>7</td>\n",
       "      <td>0.000000</td>\n",
       "      <td>9</td>\n",
       "      <td>0.000000</td>\n",
       "    </tr>\n",
       "    <tr>\n",
       "      <th>87478</th>\n",
       "      <td>2043</td>\n",
       "      <td>quiz_1</td>\n",
       "      <td>2024-11-07</td>\n",
       "      <td>quiz</td>\n",
       "      <td>1</td>\n",
       "      <td>0.000000</td>\n",
       "      <td>24</td>\n",
       "      <td>0.000000</td>\n",
       "    </tr>\n",
       "    <tr>\n",
       "      <th>87479</th>\n",
       "      <td>2049</td>\n",
       "      <td>mobility_3</td>\n",
       "      <td>2024-11-07</td>\n",
       "      <td>mobility</td>\n",
       "      <td>3</td>\n",
       "      <td>0.000000</td>\n",
       "      <td>22</td>\n",
       "      <td>0.000000</td>\n",
       "    </tr>\n",
       "    <tr>\n",
       "      <th>87480</th>\n",
       "      <td>2049</td>\n",
       "      <td>quiz_3</td>\n",
       "      <td>2024-11-07</td>\n",
       "      <td>quiz</td>\n",
       "      <td>3</td>\n",
       "      <td>0.333333</td>\n",
       "      <td>26</td>\n",
       "      <td>0.333333</td>\n",
       "    </tr>\n",
       "    <tr>\n",
       "      <th>87481</th>\n",
       "      <td>2049</td>\n",
       "      <td>activity_1</td>\n",
       "      <td>2024-11-07</td>\n",
       "      <td>activity</td>\n",
       "      <td>1</td>\n",
       "      <td>1.000000</td>\n",
       "      <td>2</td>\n",
       "      <td>1.000000</td>\n",
       "    </tr>\n",
       "  </tbody>\n",
       "</table>\n",
       "<p>87482 rows × 8 columns</p>\n",
       "</div>"
      ],
      "text/plain": [
       "       user     mission        date      type  target  performance  missionID  \\\n",
       "0         0    action_1  2024-10-01    action       1     1.000000          0   \n",
       "1         0      quiz_5  2024-10-01      quiz       5     1.000000         28   \n",
       "2         0     exp_100  2024-10-01       exp     100     1.200000         18   \n",
       "3         2   episode_1  2024-10-01   episode       1     1.000000         12   \n",
       "4         2      quiz_1  2024-10-01      quiz       1     1.000000         24   \n",
       "...     ...         ...         ...       ...     ...          ...        ...   \n",
       "87477  2043  activity_7  2024-11-07  activity       7     0.000000          9   \n",
       "87478  2043      quiz_1  2024-11-07      quiz       1     0.000000         24   \n",
       "87479  2049  mobility_3  2024-11-07  mobility       3     0.000000         22   \n",
       "87480  2049      quiz_3  2024-11-07      quiz       3     0.333333         26   \n",
       "87481  2049  activity_1  2024-11-07  activity       1     1.000000          2   \n",
       "\n",
       "         reward  \n",
       "0      1.000000  \n",
       "1      1.000000  \n",
       "2      0.560000  \n",
       "3      1.000000  \n",
       "4      1.000000  \n",
       "...         ...  \n",
       "87477  0.000000  \n",
       "87478  0.000000  \n",
       "87479  0.000000  \n",
       "87480  0.333333  \n",
       "87481  1.000000  \n",
       "\n",
       "[87482 rows x 8 columns]"
      ]
     },
     "metadata": {},
     "output_type": "display_data"
    }
   ],
   "source": [
    "import pandas as pd\n",
    "\n",
    "df = pd.concat((\n",
    "    pd.read_csv('./data/October_missions_full.csv'),\n",
    "    pd.read_csv('./data/November_1stW_missions_full.csv')\n",
    "), ignore_index=True)\n",
    "\n",
    "df['mission'] = df['type'] + '_' + df['target'].astype(str)\n",
    "\n",
    "df = df[['user', 'mission', 'createdAtT', 'type', 'target', 'performance']]\n",
    "df['createdAtT'] = pd.to_datetime(df['createdAtT'], unit='ms').dt.date\n",
    "df = df.groupby('user').filter(lambda x: len(x['createdAtT'].unique()) > 2)\n",
    "\n",
    "df['user'] = df['user'].astype('category').cat.codes\n",
    "df['mission'] = df['mission'].astype('category')\n",
    "df['missionID'] = df['mission'].cat.codes\n",
    "df['type'] = df['type'].astype('category')\n",
    "\n",
    "def reward(x):\n",
    "    if x <= 1:\n",
    "        return x\n",
    "    return max(0, 2 - x**2)\n",
    "\n",
    "df['reward'] = df['performance'].apply(reward)\n",
    "df.rename(columns={'createdAtT': 'date'}, inplace=True)\n",
    "\n",
    "df.sort_values(by=['date', 'user'], inplace=True, ignore_index=True)\n",
    "display(df)"
   ]
  },
  {
   "cell_type": "code",
   "execution_count": 2,
   "metadata": {},
   "outputs": [],
   "source": [
    "import torch\n",
    "import numpy as np\n",
    "from src import models as m\n",
    "from sklearn.metrics import mean_squared_error\n",
    "\n",
    "df.drop_duplicates(subset=['user', 'mission'], keep='last', inplace=True, ignore_index=True)\n",
    "DEVICE = 'cpu'\n",
    "\n",
    "def fold(d):\n",
    "    test_df: pd.DataFrame = df[df['date'] == d]\n",
    "    train_df = df[df['date'] < d]\n",
    "\n",
    "    # Remove users from test set that are not in the training set\n",
    "    test_df = test_df[test_df['user'].isin(train_df['user'])]\n",
    "\n",
    "    n_users = train_df['user'].max() + 1\n",
    "    n_missions = train_df['missionID'].max() + 1\n",
    "\n",
    "    mf = m.MF(n_users, n_missions, embedding_dim=16).fit(train_df)\n",
    "    autorec = m.UserBasedAutoRec(n_users=n_users, n_missions=n_missions, hidden_dim=16, dropout=0.1).fit(train_df)\n",
    "    mlp = m.MLP(n_users, n_missions, embedding_dim=16, hidden_dim=32, dropout=0.1).fit(train_df)\n",
    "\n",
    "    y_hat_autorec = np.clip(autorec.predict(\n",
    "        torch.tensor(test_df['user'].values, dtype=torch.long, device=DEVICE),\n",
    "        torch.tensor(test_df['missionID'].values, dtype=torch.long, device=DEVICE)\n",
    "    ).cpu().detach().numpy(), a_min=0, a_max=None)\n",
    "\n",
    "    y_hat_mf = np.clip(mf(\n",
    "        torch.tensor(test_df['user'].values, dtype=torch.long, device=DEVICE),\n",
    "        torch.tensor(test_df['missionID'].values, dtype=torch.long, device=DEVICE)\n",
    "    ).cpu().detach().numpy(), a_min=0, a_max=None)\n",
    "\n",
    "    y_hat_mlp = np.clip(mlp(\n",
    "        torch.tensor(test_df['user'].values, dtype=torch.long, device=DEVICE),\n",
    "        torch.tensor(test_df['missionID'].values, dtype=torch.long, device=DEVICE)\n",
    "    ).cpu().detach().numpy(), a_min=0, a_max=None)\n",
    "\n",
    "    return pd.DataFrame(\n",
    "        index=['AutoRec', 'MF', 'MLP'],\n",
    "        columns=[str(d)],\n",
    "        data=[\n",
    "            mean_squared_error(test_df['performance'], y_hat_autorec),\n",
    "            mean_squared_error(test_df['performance'], y_hat_mf),\n",
    "            mean_squared_error(test_df['performance'], y_hat_mlp)\n",
    "        ],\n",
    "    )"
   ]
  },
  {
   "cell_type": "code",
   "execution_count": 3,
   "metadata": {},
   "outputs": [
    {
     "data": {
      "application/vnd.jupyter.widget-view+json": {
       "model_id": "10975fe5c6ea46588dacfd50183a2afa",
       "version_major": 2,
       "version_minor": 0
      },
      "text/plain": [
       "  0%|          | 0/2 [00:00<?, ?it/s]"
      ]
     },
     "metadata": {},
     "output_type": "display_data"
    },
    {
     "data": {
      "application/vnd.jupyter.widget-view+json": {
       "model_id": "4a6a882fe2a249ab869a16b6043bd1a1",
       "version_major": 2,
       "version_minor": 0
      },
      "text/plain": [
       "  0%|          | 0/20 [00:00<?, ?it/s]"
      ]
     },
     "metadata": {},
     "output_type": "display_data"
    },
    {
     "data": {
      "application/vnd.jupyter.widget-view+json": {
       "model_id": "02ff727d12c44cc39a9697d62ed2be7d",
       "version_major": 2,
       "version_minor": 0
      },
      "text/plain": [
       "  0%|          | 0/100 [00:00<?, ?it/s]"
      ]
     },
     "metadata": {},
     "output_type": "display_data"
    },
    {
     "data": {
      "application/vnd.jupyter.widget-view+json": {
       "model_id": "1c5ddfc4a76a4ef68d7f5d8e17e9e189",
       "version_major": 2,
       "version_minor": 0
      },
      "text/plain": [
       "  0%|          | 0/20 [00:00<?, ?it/s]"
      ]
     },
     "metadata": {},
     "output_type": "display_data"
    },
    {
     "data": {
      "application/vnd.jupyter.widget-view+json": {
       "model_id": "ec62134b35aa486f8887592a1fe5ff1a",
       "version_major": 2,
       "version_minor": 0
      },
      "text/plain": [
       "  0%|          | 0/20 [00:00<?, ?it/s]"
      ]
     },
     "metadata": {},
     "output_type": "display_data"
    },
    {
     "data": {
      "application/vnd.jupyter.widget-view+json": {
       "model_id": "7219b5270d16491cbdd1eb5471410be1",
       "version_major": 2,
       "version_minor": 0
      },
      "text/plain": [
       "  0%|          | 0/100 [00:00<?, ?it/s]"
      ]
     },
     "metadata": {},
     "output_type": "display_data"
    },
    {
     "data": {
      "application/vnd.jupyter.widget-view+json": {
       "model_id": "fc61a9e7e0aa48c4b475c88b8c1e4b1c",
       "version_major": 2,
       "version_minor": 0
      },
      "text/plain": [
       "  0%|          | 0/20 [00:00<?, ?it/s]"
      ]
     },
     "metadata": {},
     "output_type": "display_data"
    },
    {
     "data": {
      "text/html": [
       "<div>\n",
       "<style scoped>\n",
       "    .dataframe tbody tr th:only-of-type {\n",
       "        vertical-align: middle;\n",
       "    }\n",
       "\n",
       "    .dataframe tbody tr th {\n",
       "        vertical-align: top;\n",
       "    }\n",
       "\n",
       "    .dataframe thead th {\n",
       "        text-align: right;\n",
       "    }\n",
       "</style>\n",
       "<table border=\"1\" class=\"dataframe\">\n",
       "  <thead>\n",
       "    <tr style=\"text-align: right;\">\n",
       "      <th></th>\n",
       "      <th>mean</th>\n",
       "      <th>std</th>\n",
       "    </tr>\n",
       "  </thead>\n",
       "  <tbody>\n",
       "    <tr>\n",
       "      <th>AutoRec</th>\n",
       "      <td>0.121604</td>\n",
       "      <td>0.000858</td>\n",
       "    </tr>\n",
       "    <tr>\n",
       "      <th>MF</th>\n",
       "      <td>0.143922</td>\n",
       "      <td>0.000071</td>\n",
       "    </tr>\n",
       "    <tr>\n",
       "      <th>MLP</th>\n",
       "      <td>0.124154</td>\n",
       "      <td>0.000084</td>\n",
       "    </tr>\n",
       "  </tbody>\n",
       "</table>\n",
       "</div>"
      ],
      "text/plain": [
       "             mean       std\n",
       "AutoRec  0.121604  0.000858\n",
       "MF       0.143922  0.000071\n",
       "MLP      0.124154  0.000084"
      ]
     },
     "execution_count": 3,
     "metadata": {},
     "output_type": "execute_result"
    }
   ],
   "source": [
    "from tqdm.auto import tqdm\n",
    "\n",
    "torch.manual_seed(0)\n",
    "np.random.seed(0)\n",
    "\n",
    "results = pd.concat((\n",
    "    fold(d.date()) for d in tqdm(pd.date_range('2024-11-01', '2024-11-02'))\n",
    "), axis=1)\n",
    "\n",
    "results.aggregate(['mean', 'std'], axis=1)"
   ]
  }
 ],
 "metadata": {
  "kernelspec": {
   "display_name": "Python 3",
   "language": "python",
   "name": "python3"
  },
  "language_info": {
   "codemirror_mode": {
    "name": "ipython",
    "version": 3
   },
   "file_extension": ".py",
   "mimetype": "text/x-python",
   "name": "python",
   "nbconvert_exporter": "python",
   "pygments_lexer": "ipython3",
   "version": "3.12.7"
  }
 },
 "nbformat": 4,
 "nbformat_minor": 2
}
