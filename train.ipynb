{
 "cells": [
  {
   "cell_type": "code",
   "execution_count": 1,
   "metadata": {},
   "outputs": [
    {
     "data": {
      "text/html": [
       "<div>\n",
       "<style scoped>\n",
       "    .dataframe tbody tr th:only-of-type {\n",
       "        vertical-align: middle;\n",
       "    }\n",
       "\n",
       "    .dataframe tbody tr th {\n",
       "        vertical-align: top;\n",
       "    }\n",
       "\n",
       "    .dataframe thead th {\n",
       "        text-align: right;\n",
       "    }\n",
       "</style>\n",
       "<table border=\"1\" class=\"dataframe\">\n",
       "  <thead>\n",
       "    <tr style=\"text-align: right;\">\n",
       "      <th></th>\n",
       "      <th>id</th>\n",
       "      <th>mission</th>\n",
       "      <th>ID</th>\n",
       "      <th>history</th>\n",
       "      <th>negatives</th>\n",
       "    </tr>\n",
       "  </thead>\n",
       "  <tbody>\n",
       "    <tr>\n",
       "      <th>5643</th>\n",
       "      <td>4122_2024-10-02</td>\n",
       "      <td>activity_1</td>\n",
       "      <td>2</td>\n",
       "      <td>[[15, 0], [24, 0], [0, 0], [1, 0], [26, 0], [4...</td>\n",
       "      <td>[0, 1, 3, 4, 5, 6, 7, 8, 9, 10, 11, 12, 13, 14...</td>\n",
       "    </tr>\n",
       "    <tr>\n",
       "      <th>5644</th>\n",
       "      <td>4122_2024-10-02</td>\n",
       "      <td>mobility_2</td>\n",
       "      <td>21</td>\n",
       "      <td>[[15, 0], [24, 0], [0, 0], [1, 0], [26, 0], [4...</td>\n",
       "      <td>[0, 1, 3, 4, 5, 6, 7, 8, 9, 10, 11, 12, 13, 14...</td>\n",
       "    </tr>\n",
       "    <tr>\n",
       "      <th>6086</th>\n",
       "      <td>5027_2024-10-02</td>\n",
       "      <td>mobility_1</td>\n",
       "      <td>20</td>\n",
       "      <td>[[23, 0], [22, 0], [24, 1], [24, 1], [1, 0], [...</td>\n",
       "      <td>[0, 1, 2, 3, 4, 5, 6, 7, 8, 9, 10, 12, 13, 14,...</td>\n",
       "    </tr>\n",
       "    <tr>\n",
       "      <th>6087</th>\n",
       "      <td>5027_2024-10-02</td>\n",
       "      <td>activity_9</td>\n",
       "      <td>11</td>\n",
       "      <td>[[23, 0], [22, 0], [24, 1], [24, 1], [1, 0], [...</td>\n",
       "      <td>[0, 1, 2, 3, 4, 5, 6, 7, 8, 9, 10, 12, 13, 14,...</td>\n",
       "    </tr>\n",
       "    <tr>\n",
       "      <th>6088</th>\n",
       "      <td>5027_2024-10-02</td>\n",
       "      <td>exp_100</td>\n",
       "      <td>18</td>\n",
       "      <td>[[23, 0], [22, 0], [24, 1], [24, 1], [1, 0], [...</td>\n",
       "      <td>[0, 1, 2, 3, 4, 5, 6, 7, 8, 9, 10, 12, 13, 14,...</td>\n",
       "    </tr>\n",
       "    <tr>\n",
       "      <th>...</th>\n",
       "      <td>...</td>\n",
       "      <td>...</td>\n",
       "      <td>...</td>\n",
       "      <td>...</td>\n",
       "      <td>...</td>\n",
       "    </tr>\n",
       "    <tr>\n",
       "      <th>91346</th>\n",
       "      <td>7213_2024-10-31</td>\n",
       "      <td>activity_1</td>\n",
       "      <td>2</td>\n",
       "      <td>[[4, 1], [26, 0], [17, 1], [20, 0], [6, 1], [2...</td>\n",
       "      <td>[0, 3, 4, 5, 6, 7, 8, 9, 10, 11, 12, 13, 14, 1...</td>\n",
       "    </tr>\n",
       "    <tr>\n",
       "      <th>91347</th>\n",
       "      <td>7213_2024-10-31</td>\n",
       "      <td>action_2</td>\n",
       "      <td>1</td>\n",
       "      <td>[[4, 1], [26, 0], [17, 1], [20, 0], [6, 1], [2...</td>\n",
       "      <td>[0, 3, 4, 5, 6, 7, 8, 9, 10, 11, 12, 13, 14, 1...</td>\n",
       "    </tr>\n",
       "    <tr>\n",
       "      <th>91348</th>\n",
       "      <td>7213_2024-10-31</td>\n",
       "      <td>episode_5</td>\n",
       "      <td>16</td>\n",
       "      <td>[[4, 1], [26, 0], [17, 1], [20, 0], [6, 1], [2...</td>\n",
       "      <td>[0, 3, 4, 5, 6, 7, 8, 9, 10, 11, 12, 13, 14, 1...</td>\n",
       "    </tr>\n",
       "    <tr>\n",
       "      <th>91350</th>\n",
       "      <td>7219_2024-10-31</td>\n",
       "      <td>quiz_1</td>\n",
       "      <td>24</td>\n",
       "      <td>[[16, 0], [4, 0], [1, 0], [13, 0], [22, 0], [4...</td>\n",
       "      <td>[0, 1, 2, 3, 4, 5, 6, 7, 8, 9, 10, 11, 12, 14,...</td>\n",
       "    </tr>\n",
       "    <tr>\n",
       "      <th>91351</th>\n",
       "      <td>7219_2024-10-31</td>\n",
       "      <td>episode_2</td>\n",
       "      <td>13</td>\n",
       "      <td>[[16, 0], [4, 0], [1, 0], [13, 0], [22, 0], [4...</td>\n",
       "      <td>[0, 1, 2, 3, 4, 5, 6, 7, 8, 9, 10, 11, 12, 14,...</td>\n",
       "    </tr>\n",
       "  </tbody>\n",
       "</table>\n",
       "<p>14516 rows × 5 columns</p>\n",
       "</div>"
      ],
      "text/plain": [
       "                    id     mission  ID  \\\n",
       "5643   4122_2024-10-02  activity_1   2   \n",
       "5644   4122_2024-10-02  mobility_2  21   \n",
       "6086   5027_2024-10-02  mobility_1  20   \n",
       "6087   5027_2024-10-02  activity_9  11   \n",
       "6088   5027_2024-10-02     exp_100  18   \n",
       "...                ...         ...  ..   \n",
       "91346  7213_2024-10-31  activity_1   2   \n",
       "91347  7213_2024-10-31    action_2   1   \n",
       "91348  7213_2024-10-31   episode_5  16   \n",
       "91350  7219_2024-10-31      quiz_1  24   \n",
       "91351  7219_2024-10-31   episode_2  13   \n",
       "\n",
       "                                                 history  \\\n",
       "5643   [[15, 0], [24, 0], [0, 0], [1, 0], [26, 0], [4...   \n",
       "5644   [[15, 0], [24, 0], [0, 0], [1, 0], [26, 0], [4...   \n",
       "6086   [[23, 0], [22, 0], [24, 1], [24, 1], [1, 0], [...   \n",
       "6087   [[23, 0], [22, 0], [24, 1], [24, 1], [1, 0], [...   \n",
       "6088   [[23, 0], [22, 0], [24, 1], [24, 1], [1, 0], [...   \n",
       "...                                                  ...   \n",
       "91346  [[4, 1], [26, 0], [17, 1], [20, 0], [6, 1], [2...   \n",
       "91347  [[4, 1], [26, 0], [17, 1], [20, 0], [6, 1], [2...   \n",
       "91348  [[4, 1], [26, 0], [17, 1], [20, 0], [6, 1], [2...   \n",
       "91350  [[16, 0], [4, 0], [1, 0], [13, 0], [22, 0], [4...   \n",
       "91351  [[16, 0], [4, 0], [1, 0], [13, 0], [22, 0], [4...   \n",
       "\n",
       "                                               negatives  \n",
       "5643   [0, 1, 3, 4, 5, 6, 7, 8, 9, 10, 11, 12, 13, 14...  \n",
       "5644   [0, 1, 3, 4, 5, 6, 7, 8, 9, 10, 11, 12, 13, 14...  \n",
       "6086   [0, 1, 2, 3, 4, 5, 6, 7, 8, 9, 10, 12, 13, 14,...  \n",
       "6087   [0, 1, 2, 3, 4, 5, 6, 7, 8, 9, 10, 12, 13, 14,...  \n",
       "6088   [0, 1, 2, 3, 4, 5, 6, 7, 8, 9, 10, 12, 13, 14,...  \n",
       "...                                                  ...  \n",
       "91346  [0, 3, 4, 5, 6, 7, 8, 9, 10, 11, 12, 13, 14, 1...  \n",
       "91347  [0, 3, 4, 5, 6, 7, 8, 9, 10, 11, 12, 13, 14, 1...  \n",
       "91348  [0, 3, 4, 5, 6, 7, 8, 9, 10, 11, 12, 13, 14, 1...  \n",
       "91350  [0, 1, 2, 3, 4, 5, 6, 7, 8, 9, 10, 11, 12, 14,...  \n",
       "91351  [0, 1, 2, 3, 4, 5, 6, 7, 8, 9, 10, 11, 12, 14,...  \n",
       "\n",
       "[14516 rows x 5 columns]"
      ]
     },
     "execution_count": 1,
     "metadata": {},
     "output_type": "execute_result"
    }
   ],
   "source": [
    "import pandas as pd\n",
    "import numpy as np\n",
    "from tqdm.auto import tqdm\n",
    "\n",
    "df: pd.DataFrame = pd.read_pickle('./data/dataset.pkl')\n",
    "\n",
    "df"
   ]
  },
  {
   "cell_type": "code",
   "execution_count": 2,
   "metadata": {},
   "outputs": [
    {
     "data": {
      "text/plain": [
       "(tensor([[15,  0],\n",
       "         [24,  0],\n",
       "         [ 0,  0],\n",
       "         [ 1,  0],\n",
       "         [26,  0],\n",
       "         [ 4,  1],\n",
       "         [22,  1],\n",
       "         [ 6,  1],\n",
       "         [11,  0]], device='cuda:0'),\n",
       " tensor([2], device='cuda:0'),\n",
       " tensor([23, 20,  7, 16, 19, 29, 14, 26,  3, 24], device='cuda:0'))"
      ]
     },
     "execution_count": 2,
     "metadata": {},
     "output_type": "execute_result"
    }
   ],
   "source": [
    "import torch\n",
    "from torch.utils.data import Dataset, DataLoader\n",
    "\n",
    "DEVICE = torch.device('cuda' if torch.cuda.is_available() else 'cpu')\n",
    "class SequentialRecommendations(Dataset):\n",
    "    def __init__(self, df: pd.DataFrame, n_negative_samples=10):\n",
    "        super().__init__()\n",
    "        self.positives = torch.from_numpy(df['ID'].values).view(-1, 1).to(DEVICE)        \n",
    "        self.histories = [torch.from_numpy(h).to(DEVICE) for h in df['history']]\n",
    "        self.negatives = [torch.tensor(n).to(DEVICE) for n in df['negatives']]\n",
    "        self.n_negative_samples = n_negative_samples\n",
    "    \n",
    "    def __len__(self):\n",
    "        return len(self.positives)\n",
    "    \n",
    "    def __getitem__(self, idx):\n",
    "        pos = self.positives[idx]\n",
    "        history = self.histories[idx]\n",
    "\n",
    "        neg = torch.randperm(len(self.negatives[idx]))[:self.n_negative_samples]\n",
    "        neg = self.negatives[idx][neg]\n",
    "\n",
    "        return history, pos, neg\n",
    "\n",
    "dataset = SequentialRecommendations(df)\n",
    "dataset[0]"
   ]
  },
  {
   "cell_type": "code",
   "execution_count": 3,
   "metadata": {},
   "outputs": [],
   "source": [
    "import torch.nn as nn\n",
    "import torch.nn.functional as F\n",
    "\n",
    "class GRU4Rec(nn.Module):\n",
    "    def __init__(self, n_items, hidden_size=100, n_layers=1):\n",
    "        super().__init__()\n",
    "        self.hidden_size = hidden_size\n",
    "        self.n_layers = n_layers\n",
    "\n",
    "        self.embedding = nn.Embedding(n_items, hidden_size)\n",
    "        self.gru = nn.GRU(hidden_size + 1, hidden_size, n_layers, batch_first=True)\n",
    "        self.fc = nn.Linear(hidden_size, n_items)\n",
    "\n",
    "    def forward(self, x):\n",
    "        items = x[:, :, 0]\n",
    "        items = self.embedding(items)\n",
    "        x = torch.cat((items, x[:, :, 1:]), dim=-1)\n",
    "\n",
    "        h0 = torch.zeros(self.n_layers, x.size(0), self.hidden_size).to(DEVICE)\n",
    "        _, out = self.gru(x, h0)\n",
    "        out = out.view(-1, self.hidden_size)\n",
    "        out = self.fc(out)\n",
    "        return out\n",
    "\n",
    "class BPRmax(nn.Module):\n",
    "    def __init__(self, *args, **kwargs):\n",
    "        super().__init__(*args, **kwargs)\n",
    "    \n",
    "    def forward(self, positives: torch.Tensor, negatives: torch.Tensor):\n",
    "        distances = positives - negatives.max(dim=1, keepdim=True).values\n",
    "        return - torch.sum(F.logsigmoid(distances), dim=0, keepdim=True)\n",
    "\n",
    "def train(model: nn.Module, dataset: SequentialRecommendations, n_epochs=10):\n",
    "    model.to(DEVICE)\n",
    "    model.train()\n",
    "    optimizer = torch.optim.Adam(model.parameters(), lr=0.01)\n",
    "    criterion = BPRmax()\n",
    "    dataloader = DataLoader(dataset, batch_size=32, shuffle=True)\n",
    "\n",
    "    for _ in (bar := tqdm(range(n_epochs))):\n",
    "        epoch_loss = 0\n",
    "        for history, pos, neg in tqdm(dataloader, leave=False):\n",
    "            optimizer.zero_grad()\n",
    "            out: torch.Tensor = model(history)\n",
    "            pos_out = out.gather(1, pos)\n",
    "            neg_out = out.gather(1, neg)\n",
    "            loss = criterion(pos_out, neg_out)\n",
    "            loss.backward()\n",
    "            optimizer.step()\n",
    "            epoch_loss += loss.item()\n",
    "        bar.set_postfix(loss=epoch_loss/len(dataloader))\n",
    "    \n",
    "    return model"
   ]
  },
  {
   "cell_type": "code",
   "execution_count": 4,
   "metadata": {},
   "outputs": [],
   "source": [
    "import random\n",
    "\n",
    "class MissionRecommender:\n",
    "    def __init__(self, missions, model, epsilon):\n",
    "        \"\"\"\n",
    "        Initialize the recommender.\n",
    "\n",
    "        Args:\n",
    "        missions (list of dict): List of mission objects, each with 'ID', 'type', and 'target'.\n",
    "        model (torch.nn.Module): PyTorch module to rank missions based on user history.\n",
    "        epsilon (float): Probability of selecting a random mission.\n",
    "        \"\"\"\n",
    "        self.missions = missions\n",
    "        self.model = model\n",
    "        self.epsilon = epsilon\n",
    "\n",
    "    def recommend(self, user_history, num_recommendations):\n",
    "        \"\"\"\n",
    "        Generate a set of mission recommendations based on the policy.\n",
    "\n",
    "        Args:\n",
    "        user_history (list of tuples): User's past interactions [(mission_id, outcome), ...].\n",
    "        num_recommendations (int): Number of missions to recommend.\n",
    "\n",
    "        Returns:\n",
    "        list of dict: Recommended missions.\n",
    "        \"\"\"\n",
    "        recommendations = []\n",
    "        used_mission_ids = self._get_used_missions(user_history)\n",
    "        assigned_types = set()\n",
    "\n",
    "        while len(recommendations) < num_recommendations:\n",
    "            if self._use_random_selection():\n",
    "                self._add_random_mission(recommendations, assigned_types)\n",
    "            else:\n",
    "                self._add_ranked_mission(recommendations, user_history, used_mission_ids, assigned_types)\n",
    "\n",
    "        return recommendations\n",
    "\n",
    "    def _get_used_missions(self, user_history):\n",
    "        \"\"\"\n",
    "        Extract the IDs of missions with positive outcomes from the user's history.\n",
    "\n",
    "        Args:\n",
    "        user_history (list of tuples): User's past interactions.\n",
    "\n",
    "        Returns:\n",
    "        set: Mission IDs with positive outcomes.\n",
    "        \"\"\"\n",
    "        return {m[0] for m in user_history if m[1] > 0}\n",
    "\n",
    "    def _use_random_selection(self):\n",
    "        \"\"\"\n",
    "        Decide whether to select a mission randomly based on epsilon.\n",
    "\n",
    "        Returns:\n",
    "        bool: True if random selection is chosen, False otherwise.\n",
    "        \"\"\"\n",
    "        return random.random() < self.epsilon\n",
    "\n",
    "    def _add_random_mission(self, recommendations, assigned_types):\n",
    "        \"\"\"\n",
    "        Add a random mission to the recommendations if possible.\n",
    "\n",
    "        Args:\n",
    "        recommendations (list): Current recommendation list.\n",
    "        assigned_types (set): Set of already assigned types.\n",
    "        \"\"\"\n",
    "        random_mission = self._select_random_mission(assigned_types)\n",
    "        if random_mission:\n",
    "            recommendations.append(random_mission)\n",
    "            assigned_types.add(random_mission[\"type\"])\n",
    "\n",
    "    def _add_ranked_mission(self, recommendations, user_history, used_mission_ids, assigned_types):\n",
    "        \"\"\"\n",
    "        Add the highest-ranked mission to the recommendations.\n",
    "\n",
    "        Args:\n",
    "        recommendations (list): Current recommendation list.\n",
    "        user_history (list of tuples): User's past interactions.\n",
    "        used_mission_ids (set): IDs of missions to exclude from recommendations.\n",
    "        assigned_types (set): Set of already assigned types.\n",
    "        \"\"\"\n",
    "        ranked_missions = self._rank_missions(user_history, used_mission_ids)\n",
    "        for mission in ranked_missions:\n",
    "            if mission[\"type\"] not in assigned_types:\n",
    "                recommendations.append(mission)\n",
    "                assigned_types.add(mission[\"type\"])\n",
    "                self._replace_existing_random_of_same_type(recommendations, mission)\n",
    "                break\n",
    "\n",
    "    def _replace_existing_random_of_same_type(self, recommendations, mission):\n",
    "        \"\"\"\n",
    "        Replace any random mission of the same type in recommendations with the ranked mission.\n",
    "\n",
    "        Args:\n",
    "        recommendations (list): Current recommendation list.\n",
    "        mission (dict): The ranked mission to be added.\n",
    "        \"\"\"\n",
    "        recommendations[:] = [\n",
    "            rec for rec in recommendations if rec[\"type\"] != mission[\"type\"] or rec == mission\n",
    "        ]\n",
    "\n",
    "    def _select_random_mission(self, assigned_types):\n",
    "        \"\"\"\n",
    "        Select a random mission that is not of an already assigned type.\n",
    "\n",
    "        Args:\n",
    "        assigned_types (set): Types already assigned.\n",
    "\n",
    "        Returns:\n",
    "        dict or None: Random mission or None if no valid mission found.\n",
    "        \"\"\"\n",
    "        available_missions = [m for m in self.missions if m[\"type\"] not in assigned_types]\n",
    "        return random.choice(available_missions) if available_missions else None\n",
    "\n",
    "    def _rank_missions(self, user_history, used_mission_ids):\n",
    "        \"\"\"\n",
    "        Query the model for a ranked list of missions, excluding used ones.\n",
    "\n",
    "        Args:\n",
    "        user_history (list of tuples): User's past interactions.\n",
    "        used_mission_ids (set): Set of mission IDs to exclude.\n",
    "\n",
    "        Returns:\n",
    "        list of dict: Ranked list of missions.\n",
    "        \"\"\"\n",
    "        # Convert user history to PyTorch tensor\n",
    "        history_tensor = torch.from_numpy(user_history).view(1, -1, 2).to(DEVICE)\n",
    "        \n",
    "        # Get mission scores from the model\n",
    "        with torch.no_grad():\n",
    "            mission_scores = self.model(history_tensor).squeeze(0)  # Assume model outputs a (num_missions,) tensor\n",
    "\n",
    "        # Rank missions by score\n",
    "        mission_ranking = torch.argsort(mission_scores, descending=True).tolist()\n",
    "        \n",
    "        # Exclude missions with positive outcomes\n",
    "        ranked_missions = [\n",
    "            m for idx in mission_ranking\n",
    "            for m in self.missions\n",
    "            if m[\"ID\"] == idx and m[\"ID\"] not in used_mission_ids\n",
    "        ]\n",
    "        return ranked_missions\n"
   ]
  },
  {
   "cell_type": "code",
   "execution_count": 5,
   "metadata": {},
   "outputs": [],
   "source": [
    "missions = df[['ID', 'mission']] \\\n",
    "    .drop_duplicates() \\\n",
    "    .sort_index()\n",
    "\n",
    "missions['type'] = missions['mission'].str.split('_').str[0]\n",
    "missions['target'] = missions['mission'].str.split('_').str[1]\n",
    "missions.drop(columns=['mission'], inplace=True)\n",
    "missions = missions.to_dict(orient='records')\n",
    "\n",
    "history = df.loc[91351, 'history']"
   ]
  },
  {
   "cell_type": "code",
   "execution_count": 11,
   "metadata": {},
   "outputs": [
    {
     "data": {
      "application/vnd.jupyter.widget-view+json": {
       "model_id": "a8015a6f130442cb962c38e7e9d2119c",
       "version_major": 2,
       "version_minor": 0
      },
      "text/plain": [
       "  0%|          | 0/10 [00:00<?, ?it/s]"
      ]
     },
     "metadata": {},
     "output_type": "display_data"
    },
    {
     "data": {
      "application/vnd.jupyter.widget-view+json": {
       "model_id": "1983cf519ee4400aa6a07d46fd9a0da8",
       "version_major": 2,
       "version_minor": 0
      },
      "text/plain": [
       "  0%|          | 0/454 [00:00<?, ?it/s]"
      ]
     },
     "metadata": {},
     "output_type": "display_data"
    },
    {
     "data": {
      "application/vnd.jupyter.widget-view+json": {
       "model_id": "3051593a16fa45df9c13ec692a71b6ae",
       "version_major": 2,
       "version_minor": 0
      },
      "text/plain": [
       "  0%|          | 0/454 [00:00<?, ?it/s]"
      ]
     },
     "metadata": {},
     "output_type": "display_data"
    },
    {
     "data": {
      "application/vnd.jupyter.widget-view+json": {
       "model_id": "5c013adace674505a70d19f57a28b038",
       "version_major": 2,
       "version_minor": 0
      },
      "text/plain": [
       "  0%|          | 0/454 [00:00<?, ?it/s]"
      ]
     },
     "metadata": {},
     "output_type": "display_data"
    },
    {
     "data": {
      "application/vnd.jupyter.widget-view+json": {
       "model_id": "0cf4c2ff892d4f39aa0cc81eedd4f22b",
       "version_major": 2,
       "version_minor": 0
      },
      "text/plain": [
       "  0%|          | 0/454 [00:00<?, ?it/s]"
      ]
     },
     "metadata": {},
     "output_type": "display_data"
    },
    {
     "data": {
      "application/vnd.jupyter.widget-view+json": {
       "model_id": "94853a1367264841be8f89e970572400",
       "version_major": 2,
       "version_minor": 0
      },
      "text/plain": [
       "  0%|          | 0/454 [00:00<?, ?it/s]"
      ]
     },
     "metadata": {},
     "output_type": "display_data"
    },
    {
     "data": {
      "application/vnd.jupyter.widget-view+json": {
       "model_id": "57e17dd1ce1f40b8b48d1e4ba548f68a",
       "version_major": 2,
       "version_minor": 0
      },
      "text/plain": [
       "  0%|          | 0/454 [00:00<?, ?it/s]"
      ]
     },
     "metadata": {},
     "output_type": "display_data"
    },
    {
     "data": {
      "application/vnd.jupyter.widget-view+json": {
       "model_id": "cb4b027824184299a0b29dd38c3a7fb2",
       "version_major": 2,
       "version_minor": 0
      },
      "text/plain": [
       "  0%|          | 0/454 [00:00<?, ?it/s]"
      ]
     },
     "metadata": {},
     "output_type": "display_data"
    },
    {
     "data": {
      "application/vnd.jupyter.widget-view+json": {
       "model_id": "d294913679ab4855b6731161a6b2fa68",
       "version_major": 2,
       "version_minor": 0
      },
      "text/plain": [
       "  0%|          | 0/454 [00:00<?, ?it/s]"
      ]
     },
     "metadata": {},
     "output_type": "display_data"
    },
    {
     "data": {
      "application/vnd.jupyter.widget-view+json": {
       "model_id": "6765dfa281f946e49ea72753f815df1e",
       "version_major": 2,
       "version_minor": 0
      },
      "text/plain": [
       "  0%|          | 0/454 [00:00<?, ?it/s]"
      ]
     },
     "metadata": {},
     "output_type": "display_data"
    },
    {
     "data": {
      "application/vnd.jupyter.widget-view+json": {
       "model_id": "53671138a93e4834863aae21897ab9f7",
       "version_major": 2,
       "version_minor": 0
      },
      "text/plain": [
       "  0%|          | 0/454 [00:00<?, ?it/s]"
      ]
     },
     "metadata": {},
     "output_type": "display_data"
    }
   ],
   "source": [
    "model = GRU4Rec(n_items=len(missions), hidden_size=16, n_layers=1)\n",
    "model = train(model, dataset)"
   ]
  },
  {
   "cell_type": "code",
   "execution_count": 22,
   "metadata": {},
   "outputs": [
    {
     "data": {
      "text/plain": [
       "[{'ID': 11, 'type': 'activity', 'target': '9'},\n",
       " {'ID': 22, 'type': 'mobility', 'target': '3'},\n",
       " {'ID': 26, 'type': 'quiz', 'target': '3'}]"
      ]
     },
     "execution_count": 22,
     "metadata": {},
     "output_type": "execute_result"
    }
   ],
   "source": [
    "recommender = MissionRecommender(missions, model, epsilon=0.3)\n",
    "recommender.recommend(history, 3)"
   ]
  }
 ],
 "metadata": {
  "kernelspec": {
   "display_name": ".venv",
   "language": "python",
   "name": "python3"
  },
  "language_info": {
   "codemirror_mode": {
    "name": "ipython",
    "version": 3
   },
   "file_extension": ".py",
   "mimetype": "text/x-python",
   "name": "python",
   "nbconvert_exporter": "python",
   "pygments_lexer": "ipython3",
   "version": "3.13.0"
  }
 },
 "nbformat": 4,
 "nbformat_minor": 2
}
