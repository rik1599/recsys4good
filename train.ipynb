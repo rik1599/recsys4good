{
 "cells": [
  {
   "cell_type": "code",
   "execution_count": 1,
   "metadata": {},
   "outputs": [],
   "source": [
    "import torch\n",
    "import pandas as pd\n",
    "from tqdm.auto import tqdm\n",
    "tqdm.pandas()"
   ]
  },
  {
   "cell_type": "code",
   "execution_count": 2,
   "metadata": {},
   "outputs": [],
   "source": [
    "train_df: pd.DataFrame = pd.read_pickle('out/train.pkl')"
   ]
  },
  {
   "cell_type": "code",
   "execution_count": 3,
   "metadata": {},
   "outputs": [
    {
     "data": {
      "text/plain": [
       "[{'ID': 30, 'type': 'streak', 'target': '1'},\n",
       " {'ID': 6, 'type': 'activity', 'target': '4'},\n",
       " {'ID': 25, 'type': 'quiz', 'target': '2'},\n",
       " {'ID': 14, 'type': 'episode', 'target': '3'},\n",
       " {'ID': 10, 'type': 'activity', 'target': '8'},\n",
       " {'ID': 3, 'type': 'activity', 'target': '10'},\n",
       " {'ID': 19, 'type': 'exp', 'target': '50'},\n",
       " {'ID': 0, 'type': 'action', 'target': '1'},\n",
       " {'ID': 4, 'type': 'activity', 'target': '2'},\n",
       " {'ID': 26, 'type': 'quiz', 'target': '3'},\n",
       " {'ID': 7, 'type': 'activity', 'target': '5'},\n",
       " {'ID': 16, 'type': 'episode', 'target': '5'},\n",
       " {'ID': 17, 'type': 'episode', 'target': '6'},\n",
       " {'ID': 2, 'type': 'activity', 'target': '1'},\n",
       " {'ID': 5, 'type': 'activity', 'target': '3'},\n",
       " {'ID': 15, 'type': 'episode', 'target': '4'},\n",
       " {'ID': 20, 'type': 'mobility', 'target': '1'},\n",
       " {'ID': 29, 'type': 'quiz', 'target': '6'},\n",
       " {'ID': 18, 'type': 'exp', 'target': '100'},\n",
       " {'ID': 27, 'type': 'quiz', 'target': '4'},\n",
       " {'ID': 9, 'type': 'activity', 'target': '7'},\n",
       " {'ID': 21, 'type': 'mobility', 'target': '2'},\n",
       " {'ID': 13, 'type': 'episode', 'target': '2'},\n",
       " {'ID': 12, 'type': 'episode', 'target': '1'},\n",
       " {'ID': 28, 'type': 'quiz', 'target': '5'},\n",
       " {'ID': 24, 'type': 'quiz', 'target': '1'},\n",
       " {'ID': 11, 'type': 'activity', 'target': '9'},\n",
       " {'ID': 1, 'type': 'action', 'target': '2'},\n",
       " {'ID': 8, 'type': 'activity', 'target': '6'},\n",
       " {'ID': 23, 'type': 'mobility', 'target': '4'},\n",
       " {'ID': 22, 'type': 'mobility', 'target': '3'}]"
      ]
     },
     "execution_count": 3,
     "metadata": {},
     "output_type": "execute_result"
    }
   ],
   "source": [
    "missions = train_df[['ID', 'mission']] \\\n",
    "    .drop_duplicates() \\\n",
    "    .sort_index()\n",
    "\n",
    "missions['type'] = missions['mission'].str.split('_').str[0]\n",
    "missions['target'] = missions['mission'].str.split('_').str[1]\n",
    "missions.drop(columns=['mission'], inplace=True)\n",
    "missions.to_csv('data/missions.csv', index=False)\n",
    "missions = missions.to_dict(orient='records')\n",
    "missions"
   ]
  },
  {
   "cell_type": "code",
   "execution_count": 4,
   "metadata": {},
   "outputs": [
    {
     "data": {
      "application/vnd.jupyter.widget-view+json": {
       "model_id": "3e77242f141443a09b2c77dbfaa48726",
       "version_major": 2,
       "version_minor": 0
      },
      "text/plain": [
       "  0%|          | 0/20 [00:00<?, ?it/s]"
      ]
     },
     "metadata": {},
     "output_type": "display_data"
    },
    {
     "data": {
      "application/vnd.jupyter.widget-view+json": {
       "model_id": "eed1df29655a403f98c3aee3ef6d78e4",
       "version_major": 2,
       "version_minor": 0
      },
      "text/plain": [
       "  0%|          | 0/656 [00:00<?, ?it/s]"
      ]
     },
     "metadata": {},
     "output_type": "display_data"
    },
    {
     "data": {
      "application/vnd.jupyter.widget-view+json": {
       "model_id": "db6b82e57a5f4345a5dff44044e23745",
       "version_major": 2,
       "version_minor": 0
      },
      "text/plain": [
       "  0%|          | 0/656 [00:00<?, ?it/s]"
      ]
     },
     "metadata": {},
     "output_type": "display_data"
    },
    {
     "data": {
      "application/vnd.jupyter.widget-view+json": {
       "model_id": "a188e801f1b1419e8c4752e423d94977",
       "version_major": 2,
       "version_minor": 0
      },
      "text/plain": [
       "  0%|          | 0/656 [00:00<?, ?it/s]"
      ]
     },
     "metadata": {},
     "output_type": "display_data"
    },
    {
     "data": {
      "application/vnd.jupyter.widget-view+json": {
       "model_id": "54ead4e9bca54dbabc88833b2d000d27",
       "version_major": 2,
       "version_minor": 0
      },
      "text/plain": [
       "  0%|          | 0/656 [00:00<?, ?it/s]"
      ]
     },
     "metadata": {},
     "output_type": "display_data"
    },
    {
     "data": {
      "application/vnd.jupyter.widget-view+json": {
       "model_id": "25db5360a8934327b276b50bfcbfd2b7",
       "version_major": 2,
       "version_minor": 0
      },
      "text/plain": [
       "  0%|          | 0/656 [00:00<?, ?it/s]"
      ]
     },
     "metadata": {},
     "output_type": "display_data"
    },
    {
     "data": {
      "application/vnd.jupyter.widget-view+json": {
       "model_id": "a59495593dbe4e9393a8724309fc893c",
       "version_major": 2,
       "version_minor": 0
      },
      "text/plain": [
       "  0%|          | 0/656 [00:00<?, ?it/s]"
      ]
     },
     "metadata": {},
     "output_type": "display_data"
    },
    {
     "data": {
      "application/vnd.jupyter.widget-view+json": {
       "model_id": "a29ac39f011a49508bb299f9a1b23bee",
       "version_major": 2,
       "version_minor": 0
      },
      "text/plain": [
       "  0%|          | 0/656 [00:00<?, ?it/s]"
      ]
     },
     "metadata": {},
     "output_type": "display_data"
    },
    {
     "data": {
      "application/vnd.jupyter.widget-view+json": {
       "model_id": "d945ebe88be84c8d8b86a5c9a7362b8a",
       "version_major": 2,
       "version_minor": 0
      },
      "text/plain": [
       "  0%|          | 0/656 [00:00<?, ?it/s]"
      ]
     },
     "metadata": {},
     "output_type": "display_data"
    },
    {
     "data": {
      "application/vnd.jupyter.widget-view+json": {
       "model_id": "84cd0fde974b4017bdb820217d5ba856",
       "version_major": 2,
       "version_minor": 0
      },
      "text/plain": [
       "  0%|          | 0/656 [00:00<?, ?it/s]"
      ]
     },
     "metadata": {},
     "output_type": "display_data"
    },
    {
     "data": {
      "application/vnd.jupyter.widget-view+json": {
       "model_id": "f4a524ffa63f40bfb912f6eeebf4a09b",
       "version_major": 2,
       "version_minor": 0
      },
      "text/plain": [
       "  0%|          | 0/656 [00:00<?, ?it/s]"
      ]
     },
     "metadata": {},
     "output_type": "display_data"
    },
    {
     "data": {
      "application/vnd.jupyter.widget-view+json": {
       "model_id": "980fe101b0384a7a95e543e552394ea3",
       "version_major": 2,
       "version_minor": 0
      },
      "text/plain": [
       "  0%|          | 0/656 [00:00<?, ?it/s]"
      ]
     },
     "metadata": {},
     "output_type": "display_data"
    },
    {
     "data": {
      "application/vnd.jupyter.widget-view+json": {
       "model_id": "cb84bfbb5212424cb4b96f43c3e1d6db",
       "version_major": 2,
       "version_minor": 0
      },
      "text/plain": [
       "  0%|          | 0/656 [00:00<?, ?it/s]"
      ]
     },
     "metadata": {},
     "output_type": "display_data"
    },
    {
     "data": {
      "application/vnd.jupyter.widget-view+json": {
       "model_id": "620f0f42c4804d8a8ea946f61680f241",
       "version_major": 2,
       "version_minor": 0
      },
      "text/plain": [
       "  0%|          | 0/656 [00:00<?, ?it/s]"
      ]
     },
     "metadata": {},
     "output_type": "display_data"
    },
    {
     "data": {
      "application/vnd.jupyter.widget-view+json": {
       "model_id": "4c6c29ab307d4408afb5bde857675f00",
       "version_major": 2,
       "version_minor": 0
      },
      "text/plain": [
       "  0%|          | 0/656 [00:00<?, ?it/s]"
      ]
     },
     "metadata": {},
     "output_type": "display_data"
    },
    {
     "data": {
      "application/vnd.jupyter.widget-view+json": {
       "model_id": "b98c69000fce4463bfbce85acc39d4ae",
       "version_major": 2,
       "version_minor": 0
      },
      "text/plain": [
       "  0%|          | 0/656 [00:00<?, ?it/s]"
      ]
     },
     "metadata": {},
     "output_type": "display_data"
    },
    {
     "data": {
      "application/vnd.jupyter.widget-view+json": {
       "model_id": "9dfc85e15770440b81693de08a8e91a3",
       "version_major": 2,
       "version_minor": 0
      },
      "text/plain": [
       "  0%|          | 0/656 [00:00<?, ?it/s]"
      ]
     },
     "metadata": {},
     "output_type": "display_data"
    },
    {
     "data": {
      "application/vnd.jupyter.widget-view+json": {
       "model_id": "3b01f25f183841db80735eb007b20e56",
       "version_major": 2,
       "version_minor": 0
      },
      "text/plain": [
       "  0%|          | 0/656 [00:00<?, ?it/s]"
      ]
     },
     "metadata": {},
     "output_type": "display_data"
    },
    {
     "data": {
      "application/vnd.jupyter.widget-view+json": {
       "model_id": "501fc93fe83b4783b019adc47277cb0e",
       "version_major": 2,
       "version_minor": 0
      },
      "text/plain": [
       "  0%|          | 0/656 [00:00<?, ?it/s]"
      ]
     },
     "metadata": {},
     "output_type": "display_data"
    },
    {
     "data": {
      "application/vnd.jupyter.widget-view+json": {
       "model_id": "aa401ab4575c4ef2b43d452efd420697",
       "version_major": 2,
       "version_minor": 0
      },
      "text/plain": [
       "  0%|          | 0/656 [00:00<?, ?it/s]"
      ]
     },
     "metadata": {},
     "output_type": "display_data"
    },
    {
     "data": {
      "application/vnd.jupyter.widget-view+json": {
       "model_id": "fdbc22bd2e2748fc8bb82b5a6787fbf1",
       "version_major": 2,
       "version_minor": 0
      },
      "text/plain": [
       "  0%|          | 0/656 [00:00<?, ?it/s]"
      ]
     },
     "metadata": {},
     "output_type": "display_data"
    }
   ],
   "source": [
    "import os\n",
    "from src.gru4rec import GRU4Rec, SequentialRecommendations, train\n",
    "\n",
    "model = GRU4Rec(n_items=len(missions), hidden_size=16, n_layers=2)\n",
    "\n",
    "pad_token = max(m['ID'] for m in missions) + 1\n",
    "dataset = SequentialRecommendations(train_df, pad_value=pad_token)\n",
    "model, loss = train(model, dataset, n_epochs=20, reg_lambda=0.01)\n",
    "\n",
    "os.makedirs('models', exist_ok=True)\n",
    "torch.save(model, 'models/gru4rec.pth')"
   ]
  },
  {
   "cell_type": "code",
   "execution_count": 5,
   "metadata": {},
   "outputs": [
    {
     "data": {
      "text/plain": [
       "[<matplotlib.lines.Line2D at 0x7f3b0ebaa570>]"
      ]
     },
     "execution_count": 5,
     "metadata": {},
     "output_type": "execute_result"
    },
    {
     "data": {
      "image/png": "[encoded data removed]",
      "text/plain": [
       "<Figure size 640x480 with 1 Axes>"
      ]
     },
     "metadata": {},
     "output_type": "display_data"
    }
   ],
   "source": [
    "from matplotlib import pyplot as plt\n",
    "\n",
    "plt.plot(loss)"
   ]
  }
 ],
 "metadata": {
  "kernelspec": {
   "display_name": "Python 3",
   "language": "python",
   "name": "python3"
  },
  "language_info": {
   "codemirror_mode": {
    "name": "ipython",
    "version": 3
   },
   "file_extension": ".py",
   "mimetype": "text/x-python",
   "name": "python",
   "nbconvert_exporter": "python",
   "pygments_lexer": "ipython3",
   "version": "3.12.7"
  }
 },
 "nbformat": 4,
 "nbformat_minor": 2
}
