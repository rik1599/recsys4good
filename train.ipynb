{
 "cells": [
  {
   "cell_type": "code",
   "execution_count": 1,
   "metadata": {},
   "outputs": [],
   "source": [
    "import sys\n",
    "sys.path.append('.')\n",
    "\n",
    "import torch\n",
    "import pandas as pd\n",
    "from tqdm.auto import tqdm\n",
    "tqdm.pandas()"
   ]
  },
  {
   "cell_type": "code",
   "execution_count": 2,
   "metadata": {},
   "outputs": [],
   "source": [
    "train_df: pd.DataFrame = pd.read_pickle('data/train.pkl')"
   ]
  },
  {
   "cell_type": "code",
   "execution_count": 3,
   "metadata": {},
   "outputs": [
    {
     "data": {
      "text/plain": [
       "[{'ID': 30, 'type': 'streak', 'target': '1'},\n",
       " {'ID': 6, 'type': 'activity', 'target': '4'},\n",
       " {'ID': 25, 'type': 'quiz', 'target': '2'},\n",
       " {'ID': 14, 'type': 'episode', 'target': '3'},\n",
       " {'ID': 10, 'type': 'activity', 'target': '8'},\n",
       " {'ID': 3, 'type': 'activity', 'target': '10'},\n",
       " {'ID': 19, 'type': 'exp', 'target': '50'},\n",
       " {'ID': 0, 'type': 'action', 'target': '1'},\n",
       " {'ID': 4, 'type': 'activity', 'target': '2'},\n",
       " {'ID': 26, 'type': 'quiz', 'target': '3'},\n",
       " {'ID': 7, 'type': 'activity', 'target': '5'},\n",
       " {'ID': 16, 'type': 'episode', 'target': '5'},\n",
       " {'ID': 17, 'type': 'episode', 'target': '6'},\n",
       " {'ID': 2, 'type': 'activity', 'target': '1'},\n",
       " {'ID': 5, 'type': 'activity', 'target': '3'},\n",
       " {'ID': 15, 'type': 'episode', 'target': '4'},\n",
       " {'ID': 20, 'type': 'mobility', 'target': '1'},\n",
       " {'ID': 29, 'type': 'quiz', 'target': '6'},\n",
       " {'ID': 18, 'type': 'exp', 'target': '100'},\n",
       " {'ID': 27, 'type': 'quiz', 'target': '4'},\n",
       " {'ID': 9, 'type': 'activity', 'target': '7'},\n",
       " {'ID': 21, 'type': 'mobility', 'target': '2'},\n",
       " {'ID': 13, 'type': 'episode', 'target': '2'},\n",
       " {'ID': 12, 'type': 'episode', 'target': '1'},\n",
       " {'ID': 28, 'type': 'quiz', 'target': '5'},\n",
       " {'ID': 24, 'type': 'quiz', 'target': '1'},\n",
       " {'ID': 11, 'type': 'activity', 'target': '9'},\n",
       " {'ID': 1, 'type': 'action', 'target': '2'},\n",
       " {'ID': 8, 'type': 'activity', 'target': '6'},\n",
       " {'ID': 23, 'type': 'mobility', 'target': '4'},\n",
       " {'ID': 22, 'type': 'mobility', 'target': '3'}]"
      ]
     },
     "execution_count": 3,
     "metadata": {},
     "output_type": "execute_result"
    }
   ],
   "source": [
    "missions = train_df[['ID', 'mission']] \\\n",
    "    .drop_duplicates() \\\n",
    "    .sort_index()\n",
    "\n",
    "missions['type'] = missions['mission'].str.split('_').str[0]\n",
    "missions['target'] = missions['mission'].str.split('_').str[1]\n",
    "missions.drop(columns=['mission'], inplace=True)\n",
    "missions.to_csv('data/missions.csv', index=False)\n",
    "missions = missions.to_dict(orient='records')\n",
    "missions"
   ]
  },
  {
   "cell_type": "code",
   "execution_count": 4,
   "metadata": {},
   "outputs": [
    {
     "data": {
      "application/vnd.jupyter.widget-view+json": {
       "model_id": "6a4b46331d64444bbc101d25591d0bde",
       "version_major": 2,
       "version_minor": 0
      },
      "text/plain": [
       "  0%|          | 0/20 [00:00<?, ?it/s]"
      ]
     },
     "metadata": {},
     "output_type": "display_data"
    },
    {
     "data": {
      "application/vnd.jupyter.widget-view+json": {
       "model_id": "fb7052f0fa994283a56f83392cb27f2b",
       "version_major": 2,
       "version_minor": 0
      },
      "text/plain": [
       "  0%|          | 0/656 [00:00<?, ?it/s]"
      ]
     },
     "metadata": {},
     "output_type": "display_data"
    },
    {
     "data": {
      "application/vnd.jupyter.widget-view+json": {
       "model_id": "5d46ca7163894906974389691bdd50d2",
       "version_major": 2,
       "version_minor": 0
      },
      "text/plain": [
       "  0%|          | 0/656 [00:00<?, ?it/s]"
      ]
     },
     "metadata": {},
     "output_type": "display_data"
    },
    {
     "data": {
      "application/vnd.jupyter.widget-view+json": {
       "model_id": "5b0000179d6f4947a2a62bb301b8fc47",
       "version_major": 2,
       "version_minor": 0
      },
      "text/plain": [
       "  0%|          | 0/656 [00:00<?, ?it/s]"
      ]
     },
     "metadata": {},
     "output_type": "display_data"
    },
    {
     "data": {
      "application/vnd.jupyter.widget-view+json": {
       "model_id": "aef06a3aa40a4d039c5b3b3cb9358293",
       "version_major": 2,
       "version_minor": 0
      },
      "text/plain": [
       "  0%|          | 0/656 [00:00<?, ?it/s]"
      ]
     },
     "metadata": {},
     "output_type": "display_data"
    },
    {
     "data": {
      "application/vnd.jupyter.widget-view+json": {
       "model_id": "45e7f9e67c784062b81bade43351df9e",
       "version_major": 2,
       "version_minor": 0
      },
      "text/plain": [
       "  0%|          | 0/656 [00:00<?, ?it/s]"
      ]
     },
     "metadata": {},
     "output_type": "display_data"
    },
    {
     "data": {
      "application/vnd.jupyter.widget-view+json": {
       "model_id": "0d3c9d055d5f41df8335950b6a3fec65",
       "version_major": 2,
       "version_minor": 0
      },
      "text/plain": [
       "  0%|          | 0/656 [00:00<?, ?it/s]"
      ]
     },
     "metadata": {},
     "output_type": "display_data"
    },
    {
     "data": {
      "application/vnd.jupyter.widget-view+json": {
       "model_id": "dd355f29c5cf4936b57ea3b465462fcc",
       "version_major": 2,
       "version_minor": 0
      },
      "text/plain": [
       "  0%|          | 0/656 [00:00<?, ?it/s]"
      ]
     },
     "metadata": {},
     "output_type": "display_data"
    },
    {
     "data": {
      "application/vnd.jupyter.widget-view+json": {
       "model_id": "29286e6a07c84367890dcef1600c1212",
       "version_major": 2,
       "version_minor": 0
      },
      "text/plain": [
       "  0%|          | 0/656 [00:00<?, ?it/s]"
      ]
     },
     "metadata": {},
     "output_type": "display_data"
    },
    {
     "data": {
      "application/vnd.jupyter.widget-view+json": {
       "model_id": "beb9d57f6cad454da56ec3bc920e4da8",
       "version_major": 2,
       "version_minor": 0
      },
      "text/plain": [
       "  0%|          | 0/656 [00:00<?, ?it/s]"
      ]
     },
     "metadata": {},
     "output_type": "display_data"
    },
    {
     "data": {
      "application/vnd.jupyter.widget-view+json": {
       "model_id": "26a6c478e4564a77b210263dc5c65e1e",
       "version_major": 2,
       "version_minor": 0
      },
      "text/plain": [
       "  0%|          | 0/656 [00:00<?, ?it/s]"
      ]
     },
     "metadata": {},
     "output_type": "display_data"
    },
    {
     "data": {
      "application/vnd.jupyter.widget-view+json": {
       "model_id": "f36288f45cf440b482eefff6f6ed88dc",
       "version_major": 2,
       "version_minor": 0
      },
      "text/plain": [
       "  0%|          | 0/656 [00:00<?, ?it/s]"
      ]
     },
     "metadata": {},
     "output_type": "display_data"
    },
    {
     "data": {
      "application/vnd.jupyter.widget-view+json": {
       "model_id": "f60792cb4f84448ca5cd0118a93d2bd0",
       "version_major": 2,
       "version_minor": 0
      },
      "text/plain": [
       "  0%|          | 0/656 [00:00<?, ?it/s]"
      ]
     },
     "metadata": {},
     "output_type": "display_data"
    },
    {
     "data": {
      "application/vnd.jupyter.widget-view+json": {
       "model_id": "98bf26b8aa0042f69b1bd5a5acdca582",
       "version_major": 2,
       "version_minor": 0
      },
      "text/plain": [
       "  0%|          | 0/656 [00:00<?, ?it/s]"
      ]
     },
     "metadata": {},
     "output_type": "display_data"
    },
    {
     "data": {
      "application/vnd.jupyter.widget-view+json": {
       "model_id": "2bfbd7f13a2a40c59a607b931a8b889f",
       "version_major": 2,
       "version_minor": 0
      },
      "text/plain": [
       "  0%|          | 0/656 [00:00<?, ?it/s]"
      ]
     },
     "metadata": {},
     "output_type": "display_data"
    },
    {
     "data": {
      "application/vnd.jupyter.widget-view+json": {
       "model_id": "3de9d162b15d45a98285b03f03045955",
       "version_major": 2,
       "version_minor": 0
      },
      "text/plain": [
       "  0%|          | 0/656 [00:00<?, ?it/s]"
      ]
     },
     "metadata": {},
     "output_type": "display_data"
    },
    {
     "data": {
      "application/vnd.jupyter.widget-view+json": {
       "model_id": "bd19bb5c75d3435d9a9026a944fdc5f3",
       "version_major": 2,
       "version_minor": 0
      },
      "text/plain": [
       "  0%|          | 0/656 [00:00<?, ?it/s]"
      ]
     },
     "metadata": {},
     "output_type": "display_data"
    },
    {
     "data": {
      "application/vnd.jupyter.widget-view+json": {
       "model_id": "67031e0c1d10404b8e0e307f59820fc8",
       "version_major": 2,
       "version_minor": 0
      },
      "text/plain": [
       "  0%|          | 0/656 [00:00<?, ?it/s]"
      ]
     },
     "metadata": {},
     "output_type": "display_data"
    },
    {
     "data": {
      "application/vnd.jupyter.widget-view+json": {
       "model_id": "38a3f48f9eda48cda5f7c9201df5761f",
       "version_major": 2,
       "version_minor": 0
      },
      "text/plain": [
       "  0%|          | 0/656 [00:00<?, ?it/s]"
      ]
     },
     "metadata": {},
     "output_type": "display_data"
    },
    {
     "data": {
      "application/vnd.jupyter.widget-view+json": {
       "model_id": "f67321052d2340c5a2c3b6af6e495ac1",
       "version_major": 2,
       "version_minor": 0
      },
      "text/plain": [
       "  0%|          | 0/656 [00:00<?, ?it/s]"
      ]
     },
     "metadata": {},
     "output_type": "display_data"
    },
    {
     "data": {
      "application/vnd.jupyter.widget-view+json": {
       "model_id": "85b23f04a71943ec9118431d45fa25df",
       "version_major": 2,
       "version_minor": 0
      },
      "text/plain": [
       "  0%|          | 0/656 [00:00<?, ?it/s]"
      ]
     },
     "metadata": {},
     "output_type": "display_data"
    }
   ],
   "source": [
    "import os\n",
    "from src.gru4rec import GRU4Rec, SequentialRecommendations, train\n",
    "\n",
    "model = GRU4Rec(n_items=len(missions), hidden_size=16, n_layers=2)\n",
    "\n",
    "pad_token = max(m['ID'] for m in missions) + 1\n",
    "dataset = SequentialRecommendations(train_df, pad_value=pad_token)\n",
    "model = train(model, dataset, n_epochs=20, reg_lambda=0.01)\n",
    "\n",
    "os.makedirs('models', exist_ok=True)\n",
    "torch.save(model, 'models/gru4rec.pth')"
   ]
  }
 ],
 "metadata": {
  "kernelspec": {
   "display_name": "Python 3",
   "language": "python",
   "name": "python3"
  },
  "language_info": {
   "codemirror_mode": {
    "name": "ipython",
    "version": 3
   },
   "file_extension": ".py",
   "mimetype": "text/x-python",
   "name": "python",
   "nbconvert_exporter": "python",
   "pygments_lexer": "ipython3",
   "version": "3.12.7"
  }
 },
 "nbformat": 4,
 "nbformat_minor": 2
}
